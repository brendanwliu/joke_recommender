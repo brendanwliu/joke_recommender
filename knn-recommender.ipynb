{
 "cells": [
  {
   "cell_type": "code",
   "execution_count": 2,
   "metadata": {},
   "outputs": [],
   "source": [
    "import numpy as np\n",
    "import pandas as pd\n",
    "from sklearn import preprocessing\n",
    "from sklearn import model_selection\n",
    "from sklearn.neighbors import NearestNeighbors\n",
    "from scipy.sparse import csr_matrix\n",
    "import random"
   ]
  },
  {
   "cell_type": "code",
   "execution_count": 6,
   "metadata": {},
   "outputs": [
    {
     "name": "stdout",
     "output_type": "stream",
     "text": [
      "Reading in Data...\n",
      "Done!\n"
     ]
    }
   ],
   "source": [
    "##Read in data\n",
    "print('Reading in Data...')\n",
    "input_path = '../joke_recommender/data/'\n",
    "df = pd.read_csv(input_path + 'scaled_df.csv').drop(['Unnamed: 0'], axis = 1)\n",
    "df_sparse = csr_matrix(df)\n",
    "joketext = pd.read_csv(input_path + 'JokeText.csv')\n",
    "print('Done!')"
   ]
  },
  {
   "cell_type": "code",
   "execution_count": 7,
   "metadata": {},
   "outputs": [
    {
     "data": {
      "text/html": [
       "<div>\n",
       "<style scoped>\n",
       "    .dataframe tbody tr th:only-of-type {\n",
       "        vertical-align: middle;\n",
       "    }\n",
       "\n",
       "    .dataframe tbody tr th {\n",
       "        vertical-align: top;\n",
       "    }\n",
       "\n",
       "    .dataframe thead th {\n",
       "        text-align: right;\n",
       "    }\n",
       "</style>\n",
       "<table border=\"1\" class=\"dataframe\">\n",
       "  <thead>\n",
       "    <tr style=\"text-align: right;\">\n",
       "      <th></th>\n",
       "      <th>0</th>\n",
       "      <th>1</th>\n",
       "      <th>2</th>\n",
       "      <th>3</th>\n",
       "      <th>4</th>\n",
       "      <th>5</th>\n",
       "      <th>6</th>\n",
       "      <th>7</th>\n",
       "      <th>8</th>\n",
       "      <th>9</th>\n",
       "      <th>...</th>\n",
       "      <th>73412</th>\n",
       "      <th>73413</th>\n",
       "      <th>73414</th>\n",
       "      <th>73415</th>\n",
       "      <th>73416</th>\n",
       "      <th>73417</th>\n",
       "      <th>73418</th>\n",
       "      <th>73419</th>\n",
       "      <th>73420</th>\n",
       "      <th>73421</th>\n",
       "    </tr>\n",
       "  </thead>\n",
       "  <tbody>\n",
       "    <tr>\n",
       "      <td>0</td>\n",
       "      <td>1.779864</td>\n",
       "      <td>1.065648</td>\n",
       "      <td>1.332255</td>\n",
       "      <td>1.898623</td>\n",
       "      <td>1.057602</td>\n",
       "      <td>1.992216</td>\n",
       "      <td>1.350401</td>\n",
       "      <td>1.688979</td>\n",
       "      <td>1.246819</td>\n",
       "      <td>1.114807</td>\n",
       "      <td>...</td>\n",
       "      <td>0.000000</td>\n",
       "      <td>0.000000</td>\n",
       "      <td>0.00000</td>\n",
       "      <td>0.0</td>\n",
       "      <td>0.000000</td>\n",
       "      <td>0.000000</td>\n",
       "      <td>0.0</td>\n",
       "      <td>0.000000</td>\n",
       "      <td>0.000000</td>\n",
       "      <td>0.000000</td>\n",
       "    </tr>\n",
       "    <tr>\n",
       "      <td>1</td>\n",
       "      <td>1.769431</td>\n",
       "      <td>1.513865</td>\n",
       "      <td>1.364078</td>\n",
       "      <td>1.291460</td>\n",
       "      <td>1.483653</td>\n",
       "      <td>2.000000</td>\n",
       "      <td>1.503393</td>\n",
       "      <td>1.562608</td>\n",
       "      <td>1.265267</td>\n",
       "      <td>1.250000</td>\n",
       "      <td>...</td>\n",
       "      <td>0.000000</td>\n",
       "      <td>0.000000</td>\n",
       "      <td>0.00000</td>\n",
       "      <td>0.0</td>\n",
       "      <td>0.000000</td>\n",
       "      <td>0.000000</td>\n",
       "      <td>0.0</td>\n",
       "      <td>0.000000</td>\n",
       "      <td>0.000000</td>\n",
       "      <td>0.000000</td>\n",
       "    </tr>\n",
       "    <tr>\n",
       "      <td>2</td>\n",
       "      <td>1.605112</td>\n",
       "      <td>1.675722</td>\n",
       "      <td>1.403452</td>\n",
       "      <td>1.336639</td>\n",
       "      <td>1.483653</td>\n",
       "      <td>1.309808</td>\n",
       "      <td>1.374460</td>\n",
       "      <td>1.943451</td>\n",
       "      <td>1.067430</td>\n",
       "      <td>1.351931</td>\n",
       "      <td>...</td>\n",
       "      <td>0.000000</td>\n",
       "      <td>0.000000</td>\n",
       "      <td>0.00000</td>\n",
       "      <td>0.0</td>\n",
       "      <td>0.000000</td>\n",
       "      <td>0.000000</td>\n",
       "      <td>0.0</td>\n",
       "      <td>0.000000</td>\n",
       "      <td>0.000000</td>\n",
       "      <td>0.000000</td>\n",
       "    </tr>\n",
       "    <tr>\n",
       "      <td>3</td>\n",
       "      <td>1.296296</td>\n",
       "      <td>1.302207</td>\n",
       "      <td>1.515642</td>\n",
       "      <td>1.507989</td>\n",
       "      <td>1.979761</td>\n",
       "      <td>1.994811</td>\n",
       "      <td>1.167798</td>\n",
       "      <td>1.537796</td>\n",
       "      <td>1.262087</td>\n",
       "      <td>1.437768</td>\n",
       "      <td>...</td>\n",
       "      <td>0.000000</td>\n",
       "      <td>0.000000</td>\n",
       "      <td>0.00000</td>\n",
       "      <td>0.0</td>\n",
       "      <td>0.000000</td>\n",
       "      <td>0.000000</td>\n",
       "      <td>0.0</td>\n",
       "      <td>0.000000</td>\n",
       "      <td>0.000000</td>\n",
       "      <td>0.000000</td>\n",
       "    </tr>\n",
       "    <tr>\n",
       "      <td>4</td>\n",
       "      <td>1.782473</td>\n",
       "      <td>1.868138</td>\n",
       "      <td>1.926645</td>\n",
       "      <td>1.850138</td>\n",
       "      <td>1.911780</td>\n",
       "      <td>1.692787</td>\n",
       "      <td>1.934608</td>\n",
       "      <td>1.476053</td>\n",
       "      <td>1.558524</td>\n",
       "      <td>1.742489</td>\n",
       "      <td>...</td>\n",
       "      <td>1.707087</td>\n",
       "      <td>1.765074</td>\n",
       "      <td>1.19598</td>\n",
       "      <td>1.0</td>\n",
       "      <td>1.079971</td>\n",
       "      <td>1.784543</td>\n",
       "      <td>2.0</td>\n",
       "      <td>1.142857</td>\n",
       "      <td>1.595135</td>\n",
       "      <td>1.877922</td>\n",
       "    </tr>\n",
       "    <tr>\n",
       "      <td>...</td>\n",
       "      <td>...</td>\n",
       "      <td>...</td>\n",
       "      <td>...</td>\n",
       "      <td>...</td>\n",
       "      <td>...</td>\n",
       "      <td>...</td>\n",
       "      <td>...</td>\n",
       "      <td>...</td>\n",
       "      <td>...</td>\n",
       "      <td>...</td>\n",
       "      <td>...</td>\n",
       "      <td>...</td>\n",
       "      <td>...</td>\n",
       "      <td>...</td>\n",
       "      <td>...</td>\n",
       "      <td>...</td>\n",
       "      <td>...</td>\n",
       "      <td>...</td>\n",
       "      <td>...</td>\n",
       "      <td>...</td>\n",
       "      <td>...</td>\n",
       "    </tr>\n",
       "    <tr>\n",
       "      <td>95</td>\n",
       "      <td>1.842984</td>\n",
       "      <td>1.505376</td>\n",
       "      <td>1.735707</td>\n",
       "      <td>1.721763</td>\n",
       "      <td>1.987545</td>\n",
       "      <td>1.614427</td>\n",
       "      <td>1.626157</td>\n",
       "      <td>1.579342</td>\n",
       "      <td>1.919847</td>\n",
       "      <td>1.586373</td>\n",
       "      <td>...</td>\n",
       "      <td>1.631783</td>\n",
       "      <td>0.000000</td>\n",
       "      <td>0.00000</td>\n",
       "      <td>0.0</td>\n",
       "      <td>0.000000</td>\n",
       "      <td>0.000000</td>\n",
       "      <td>0.0</td>\n",
       "      <td>0.000000</td>\n",
       "      <td>0.000000</td>\n",
       "      <td>0.000000</td>\n",
       "    </tr>\n",
       "    <tr>\n",
       "      <td>96</td>\n",
       "      <td>1.255608</td>\n",
       "      <td>1.508206</td>\n",
       "      <td>1.172600</td>\n",
       "      <td>1.363636</td>\n",
       "      <td>1.989621</td>\n",
       "      <td>1.617021</td>\n",
       "      <td>1.550895</td>\n",
       "      <td>1.817657</td>\n",
       "      <td>1.849237</td>\n",
       "      <td>1.568133</td>\n",
       "      <td>...</td>\n",
       "      <td>0.000000</td>\n",
       "      <td>0.000000</td>\n",
       "      <td>0.00000</td>\n",
       "      <td>0.0</td>\n",
       "      <td>0.000000</td>\n",
       "      <td>1.949649</td>\n",
       "      <td>0.0</td>\n",
       "      <td>0.000000</td>\n",
       "      <td>0.000000</td>\n",
       "      <td>0.000000</td>\n",
       "    </tr>\n",
       "    <tr>\n",
       "      <td>97</td>\n",
       "      <td>1.503912</td>\n",
       "      <td>1.796831</td>\n",
       "      <td>1.149407</td>\n",
       "      <td>1.564187</td>\n",
       "      <td>1.989621</td>\n",
       "      <td>1.692787</td>\n",
       "      <td>1.536089</td>\n",
       "      <td>1.621466</td>\n",
       "      <td>1.830153</td>\n",
       "      <td>1.781652</td>\n",
       "      <td>...</td>\n",
       "      <td>0.000000</td>\n",
       "      <td>0.000000</td>\n",
       "      <td>0.00000</td>\n",
       "      <td>0.0</td>\n",
       "      <td>0.000000</td>\n",
       "      <td>0.000000</td>\n",
       "      <td>0.0</td>\n",
       "      <td>0.000000</td>\n",
       "      <td>0.000000</td>\n",
       "      <td>0.000000</td>\n",
       "    </tr>\n",
       "    <tr>\n",
       "      <td>98</td>\n",
       "      <td>1.683359</td>\n",
       "      <td>1.458970</td>\n",
       "      <td>1.395361</td>\n",
       "      <td>1.633609</td>\n",
       "      <td>1.984951</td>\n",
       "      <td>1.989621</td>\n",
       "      <td>1.703886</td>\n",
       "      <td>1.686093</td>\n",
       "      <td>1.895038</td>\n",
       "      <td>1.947961</td>\n",
       "      <td>...</td>\n",
       "      <td>1.911406</td>\n",
       "      <td>0.000000</td>\n",
       "      <td>0.00000</td>\n",
       "      <td>0.0</td>\n",
       "      <td>0.000000</td>\n",
       "      <td>0.000000</td>\n",
       "      <td>0.0</td>\n",
       "      <td>0.000000</td>\n",
       "      <td>0.000000</td>\n",
       "      <td>0.000000</td>\n",
       "    </tr>\n",
       "    <tr>\n",
       "      <td>99</td>\n",
       "      <td>1.741784</td>\n",
       "      <td>1.730617</td>\n",
       "      <td>1.122977</td>\n",
       "      <td>1.486501</td>\n",
       "      <td>1.979761</td>\n",
       "      <td>1.433316</td>\n",
       "      <td>1.859346</td>\n",
       "      <td>1.716676</td>\n",
       "      <td>1.722010</td>\n",
       "      <td>1.638412</td>\n",
       "      <td>...</td>\n",
       "      <td>0.000000</td>\n",
       "      <td>0.000000</td>\n",
       "      <td>0.00000</td>\n",
       "      <td>0.0</td>\n",
       "      <td>0.000000</td>\n",
       "      <td>0.000000</td>\n",
       "      <td>0.0</td>\n",
       "      <td>0.000000</td>\n",
       "      <td>0.000000</td>\n",
       "      <td>0.000000</td>\n",
       "    </tr>\n",
       "  </tbody>\n",
       "</table>\n",
       "<p>100 rows × 73422 columns</p>\n",
       "</div>"
      ],
      "text/plain": [
       "           0         1         2         3         4         5         6  \\\n",
       "0   1.779864  1.065648  1.332255  1.898623  1.057602  1.992216  1.350401   \n",
       "1   1.769431  1.513865  1.364078  1.291460  1.483653  2.000000  1.503393   \n",
       "2   1.605112  1.675722  1.403452  1.336639  1.483653  1.309808  1.374460   \n",
       "3   1.296296  1.302207  1.515642  1.507989  1.979761  1.994811  1.167798   \n",
       "4   1.782473  1.868138  1.926645  1.850138  1.911780  1.692787  1.934608   \n",
       "..       ...       ...       ...       ...       ...       ...       ...   \n",
       "95  1.842984  1.505376  1.735707  1.721763  1.987545  1.614427  1.626157   \n",
       "96  1.255608  1.508206  1.172600  1.363636  1.989621  1.617021  1.550895   \n",
       "97  1.503912  1.796831  1.149407  1.564187  1.989621  1.692787  1.536089   \n",
       "98  1.683359  1.458970  1.395361  1.633609  1.984951  1.989621  1.703886   \n",
       "99  1.741784  1.730617  1.122977  1.486501  1.979761  1.433316  1.859346   \n",
       "\n",
       "           7         8         9  ...     73412     73413    73414  73415  \\\n",
       "0   1.688979  1.246819  1.114807  ...  0.000000  0.000000  0.00000    0.0   \n",
       "1   1.562608  1.265267  1.250000  ...  0.000000  0.000000  0.00000    0.0   \n",
       "2   1.943451  1.067430  1.351931  ...  0.000000  0.000000  0.00000    0.0   \n",
       "3   1.537796  1.262087  1.437768  ...  0.000000  0.000000  0.00000    0.0   \n",
       "4   1.476053  1.558524  1.742489  ...  1.707087  1.765074  1.19598    1.0   \n",
       "..       ...       ...       ...  ...       ...       ...      ...    ...   \n",
       "95  1.579342  1.919847  1.586373  ...  1.631783  0.000000  0.00000    0.0   \n",
       "96  1.817657  1.849237  1.568133  ...  0.000000  0.000000  0.00000    0.0   \n",
       "97  1.621466  1.830153  1.781652  ...  0.000000  0.000000  0.00000    0.0   \n",
       "98  1.686093  1.895038  1.947961  ...  1.911406  0.000000  0.00000    0.0   \n",
       "99  1.716676  1.722010  1.638412  ...  0.000000  0.000000  0.00000    0.0   \n",
       "\n",
       "       73416     73417  73418     73419     73420     73421  \n",
       "0   0.000000  0.000000    0.0  0.000000  0.000000  0.000000  \n",
       "1   0.000000  0.000000    0.0  0.000000  0.000000  0.000000  \n",
       "2   0.000000  0.000000    0.0  0.000000  0.000000  0.000000  \n",
       "3   0.000000  0.000000    0.0  0.000000  0.000000  0.000000  \n",
       "4   1.079971  1.784543    2.0  1.142857  1.595135  1.877922  \n",
       "..       ...       ...    ...       ...       ...       ...  \n",
       "95  0.000000  0.000000    0.0  0.000000  0.000000  0.000000  \n",
       "96  0.000000  1.949649    0.0  0.000000  0.000000  0.000000  \n",
       "97  0.000000  0.000000    0.0  0.000000  0.000000  0.000000  \n",
       "98  0.000000  0.000000    0.0  0.000000  0.000000  0.000000  \n",
       "99  0.000000  0.000000    0.0  0.000000  0.000000  0.000000  \n",
       "\n",
       "[100 rows x 73422 columns]"
      ]
     },
     "execution_count": 7,
     "metadata": {},
     "output_type": "execute_result"
    }
   ],
   "source": [
    "df"
   ]
  },
  {
   "cell_type": "code",
   "execution_count": 8,
   "metadata": {},
   "outputs": [
    {
     "name": "stdout",
     "output_type": "stream",
     "text": [
      "Fitting Model\n",
      "Done!\n"
     ]
    }
   ],
   "source": [
    "print('Fitting Model')\n",
    "model_knn = NearestNeighbors(metric='cosine', algorithm='brute', n_neighbors = 100)\n",
    "model_knn.fit(df_sparse)\n",
    "print('Done!')"
   ]
  },
  {
   "cell_type": "code",
   "execution_count": 9,
   "metadata": {},
   "outputs": [],
   "source": [
    "query_index = 0\n",
    "distances, indices = model_knn.kneighbors(df.iloc[query_index,:].values.reshape(1,-1), n_neighbors = 6)"
   ]
  },
  {
   "cell_type": "code",
   "execution_count": 10,
   "metadata": {},
   "outputs": [
    {
     "data": {
      "text/plain": [
       "'A man visits the doctor. The doctor says \"I have bad news for you.You have\\ncancer and Alzheimer\\'s disease\". \\nThe man replies \"Well,thank God I don\\'t have cancer!\"\\n'"
      ]
     },
     "execution_count": 10,
     "metadata": {},
     "output_type": "execute_result"
    }
   ],
   "source": [
    "joketext.JokeText[0]"
   ]
  },
  {
   "cell_type": "code",
   "execution_count": 11,
   "metadata": {},
   "outputs": [
    {
     "name": "stdout",
     "output_type": "stream",
     "text": [
      "Top 6 recommendations of joke 0:\n",
      "\n",
      "1: Q. What's 200 feet long and has 4 teeth? \n",
      "\n",
      "A. The front row at a Willie Nelson Concert.\n",
      "\n",
      "with distance 0.05296308416156115\n",
      "\n",
      "2: A country guy goes into a city bar that has a dress code, and the maitre\n",
      "d' \n",
      "demands he wear a tie. Discouraged, the guy goes to his car to sulk when \n",
      "inspiration strikes: He's got jumper cables in the trunk! So he wraps\n",
      "them around his neck, sort of like a string tie (a bulky string tie to be\n",
      "sure) and returns to the bar. The maitre d' is reluctant, but says to the\n",
      "guy, \"Okay, you're a pretty resourceful fellow, you can come in... but\n",
      "just don't start anything\"!  \n",
      "\n",
      "with distance 0.06279849663599901\n",
      "\n",
      "3: Q. What's the difference between a man and a toilet? \n",
      "\n",
      "A. A toilet doesn't follow you around after you use it.\n",
      "\n",
      "with distance 0.06403067343925584\n",
      "\n",
      "4: What do you get when you run over a parakeet with a lawnmower? \n",
      "Shredded tweet.\n",
      "\n",
      "with distance 0.06990431436348887\n",
      "\n",
      "5: This couple had an excellent relationship going until one day he came home\n",
      "from work to find his girlfriend packing. He asked her why she was leaving him\n",
      "and she told him that she had heard awful things about him. \n",
      "\n",
      "\"What could they possibly have said to make you move out?\" \n",
      "\n",
      "\"They told me that you were a pedophile.\" \n",
      "\n",
      "He replied, \"That's an awfully big word for a ten year old.\" \n",
      "\n",
      "with distance 0.07189783951190398\n",
      "\n"
     ]
    }
   ],
   "source": [
    "for i in range(0,len(distances.flatten())):\n",
    "    if i == 0:\n",
    "        print('Top 6 recommendations of joke {0}:\\n'.format(query_index))\n",
    "    else:\n",
    "        print('{0}: {1}\\nwith distance {2}\\n'.format(i, joketext.JokeText.iloc[indices.flatten()[i]], distances.flatten()[i]))"
   ]
  },
  {
   "cell_type": "code",
   "execution_count": 188,
   "metadata": {},
   "outputs": [],
   "source": [
    "new_user = np.zeros(100)"
   ]
  },
  {
   "cell_type": "code",
   "execution_count": 189,
   "metadata": {},
   "outputs": [],
   "source": [
    "from sklearn.preprocessing import MinMaxScaler"
   ]
  },
  {
   "cell_type": "code",
   "execution_count": 190,
   "metadata": {},
   "outputs": [
    {
     "name": "stdout",
     "output_type": "stream",
     "text": [
      "Fitting Model\n",
      "Done!\n"
     ]
    }
   ],
   "source": [
    "print('Fitting Model')\n",
    "model_knn = NearestNeighbors(metric='cosine', algorithm='brute', n_neighbors = 100)\n",
    "model_knn.fit(df_sparse.T)\n",
    "print('Done!')"
   ]
  },
  {
   "cell_type": "code",
   "execution_count": 200,
   "metadata": {},
   "outputs": [],
   "source": [
    "distances, indices = model_knn.kneighbors(new_user.reshape(1,-1), n_neighbors = 15000)"
   ]
  },
  {
   "cell_type": "code",
   "execution_count": 202,
   "metadata": {},
   "outputs": [
    {
     "data": {
      "text/plain": [
       "38.6054"
      ]
     },
     "execution_count": 202,
     "metadata": {},
     "output_type": "execute_result"
    }
   ],
   "source": [
    "neighbor = np.mean(df.iloc[:,np.intersect1d(df.columns.values.astype(int),indices)], axis = 1)[new_user==0]\n",
    "rec = np.argmax(np.array(neighbor))\n",
    "np.mean(np.sum(df.iloc[:,np.intersect1d(df.columns.values.astype(int),indices)] != 0, axis = 0))"
   ]
  },
  {
   "cell_type": "code",
   "execution_count": 203,
   "metadata": {},
   "outputs": [
    {
     "data": {
      "text/plain": [
       "'A guy goes into confession and says to the priest, \"Father, I\\'m 80 years\\nold, widower, with 11 grandchildren. Last night I met two beautiful flight\\nattendants. They took me home and I made love to both of them. Twice.\"\\n\\nThe priest said: \"Well, my son, when was the last time you were in\\nconfession?\"\\n \"Never Father, I\\'m Jewish.\"\\n \"So then, why are you telling me?\"\\n \"I\\'m telling everybody.\"\\n'"
      ]
     },
     "execution_count": 203,
     "metadata": {},
     "output_type": "execute_result"
    }
   ],
   "source": [
    "joketext.JokeText[rec]"
   ]
  },
  {
   "cell_type": "code",
   "execution_count": 178,
   "metadata": {},
   "outputs": [],
   "source": [
    "rating = 1.\n",
    "new_user[rec] = rating"
   ]
  },
  {
   "cell_type": "code",
   "execution_count": 181,
   "metadata": {},
   "outputs": [
    {
     "name": "stderr",
     "output_type": "stream",
     "text": [
      "/opt/anaconda3/lib/python3.7/site-packages/numpy/core/fromnumeric.py:61: FutureWarning: \n",
      "The current behaviour of 'Series.argmax' is deprecated, use 'idxmax'\n",
      "instead.\n",
      "The behavior of 'argmax' will be corrected to return the positional\n",
      "maximum in the future. For now, use 'series.values.argmax' or\n",
      "'np.argmax(np.array(values))' to get the position of the maximum\n",
      "row.\n",
      "  return bound(*args, **kwds)\n"
     ]
    }
   ],
   "source": [
    "distances, indices = model_knn.kneighbors(new_user.reshape(1,-1), n_neighbors = 7342)\n",
    "neighbor = np.mean(df.iloc[:,np.intersect1d(df.columns.values.astype(int),indices)], axis = 1)[new_user==0]\n",
    "rec = np.argmax(np.array(neighbor))"
   ]
  },
  {
   "cell_type": "code",
   "execution_count": 182,
   "metadata": {},
   "outputs": [
    {
     "data": {
      "text/plain": [
       "\"How many feminists does it take to screw in a light bulb?\\nThat's not funny.\\n\""
      ]
     },
     "execution_count": 182,
     "metadata": {},
     "output_type": "execute_result"
    }
   ],
   "source": [
    "joketext.JokeText[rec]"
   ]
  },
  {
   "cell_type": "code",
   "execution_count": null,
   "metadata": {},
   "outputs": [],
   "source": []
  }
 ],
 "metadata": {
  "kernelspec": {
   "display_name": "Python 3",
   "language": "python",
   "name": "python3"
  },
  "language_info": {
   "codemirror_mode": {
    "name": "ipython",
    "version": 3
   },
   "file_extension": ".py",
   "mimetype": "text/x-python",
   "name": "python",
   "nbconvert_exporter": "python",
   "pygments_lexer": "ipython3",
   "version": "3.7.4"
  }
 },
 "nbformat": 4,
 "nbformat_minor": 4
}
