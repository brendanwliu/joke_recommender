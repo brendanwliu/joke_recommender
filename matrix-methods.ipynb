{
 "cells": [
  {
   "cell_type": "code",
   "execution_count": 14,
   "metadata": {},
   "outputs": [],
   "source": [
    "import pandas as pd\n",
    "import numpy as np\n",
    "from PIL import Image\n",
    "import seaborn as sns\n",
    "import csv\n",
    "#from wordcloud import WordCloud, STOPWORDS, ImageColorGenerator\n",
    "\n",
    "from tqdm import tqdm_notebook\n",
    "import matplotlib.pyplot as plt\n",
    "from sklearn.decomposition import FastICA, TruncatedSVD, NMF\n",
    "from scipy import signal\n",
    "from sklearn.preprocessing import MinMaxScaler\n",
    "from sklearn.cluster import MiniBatchKMeans\n",
    "from sklearn.datasets import samples_generator as sg\n",
    "from sklearn.metrics import consensus_score\n",
    "\n",
    "\n",
    "%matplotlib inline"
   ]
  },
  {
   "cell_type": "code",
   "execution_count": 2,
   "metadata": {},
   "outputs": [
    {
     "data": {
      "text/html": [
       "<div>\n",
       "<style scoped>\n",
       "    .dataframe tbody tr th:only-of-type {\n",
       "        vertical-align: middle;\n",
       "    }\n",
       "\n",
       "    .dataframe tbody tr th {\n",
       "        vertical-align: top;\n",
       "    }\n",
       "\n",
       "    .dataframe thead th {\n",
       "        text-align: right;\n",
       "    }\n",
       "</style>\n",
       "<table border=\"1\" class=\"dataframe\">\n",
       "  <thead>\n",
       "    <tr style=\"text-align: right;\">\n",
       "      <th></th>\n",
       "      <th>User1</th>\n",
       "      <th>User2</th>\n",
       "      <th>User3</th>\n",
       "      <th>User4</th>\n",
       "      <th>User5</th>\n",
       "      <th>User6</th>\n",
       "      <th>User7</th>\n",
       "      <th>User8</th>\n",
       "      <th>User9</th>\n",
       "      <th>User10</th>\n",
       "      <th>...</th>\n",
       "      <th>User73412</th>\n",
       "      <th>User73413</th>\n",
       "      <th>User73414</th>\n",
       "      <th>User73415</th>\n",
       "      <th>User73416</th>\n",
       "      <th>User73417</th>\n",
       "      <th>User73418</th>\n",
       "      <th>User73419</th>\n",
       "      <th>User73420</th>\n",
       "      <th>User73421</th>\n",
       "    </tr>\n",
       "  </thead>\n",
       "  <tbody>\n",
       "    <tr>\n",
       "      <td>0</td>\n",
       "      <td>5.10</td>\n",
       "      <td>-8.79</td>\n",
       "      <td>-3.50</td>\n",
       "      <td>7.14</td>\n",
       "      <td>-8.79</td>\n",
       "      <td>9.22</td>\n",
       "      <td>-4.03</td>\n",
       "      <td>3.11</td>\n",
       "      <td>-3.64</td>\n",
       "      <td>-7.67</td>\n",
       "      <td>...</td>\n",
       "      <td>NaN</td>\n",
       "      <td>NaN</td>\n",
       "      <td>NaN</td>\n",
       "      <td>NaN</td>\n",
       "      <td>NaN</td>\n",
       "      <td>NaN</td>\n",
       "      <td>NaN</td>\n",
       "      <td>NaN</td>\n",
       "      <td>NaN</td>\n",
       "      <td>NaN</td>\n",
       "    </tr>\n",
       "    <tr>\n",
       "      <td>1</td>\n",
       "      <td>4.90</td>\n",
       "      <td>-0.87</td>\n",
       "      <td>-2.91</td>\n",
       "      <td>-3.88</td>\n",
       "      <td>-0.58</td>\n",
       "      <td>9.37</td>\n",
       "      <td>-1.55</td>\n",
       "      <td>0.92</td>\n",
       "      <td>-3.35</td>\n",
       "      <td>-5.15</td>\n",
       "      <td>...</td>\n",
       "      <td>NaN</td>\n",
       "      <td>NaN</td>\n",
       "      <td>NaN</td>\n",
       "      <td>NaN</td>\n",
       "      <td>NaN</td>\n",
       "      <td>NaN</td>\n",
       "      <td>NaN</td>\n",
       "      <td>NaN</td>\n",
       "      <td>NaN</td>\n",
       "      <td>NaN</td>\n",
       "    </tr>\n",
       "    <tr>\n",
       "      <td>2</td>\n",
       "      <td>1.75</td>\n",
       "      <td>1.99</td>\n",
       "      <td>-2.18</td>\n",
       "      <td>-3.06</td>\n",
       "      <td>-0.58</td>\n",
       "      <td>-3.93</td>\n",
       "      <td>-3.64</td>\n",
       "      <td>7.52</td>\n",
       "      <td>-6.46</td>\n",
       "      <td>-3.25</td>\n",
       "      <td>...</td>\n",
       "      <td>NaN</td>\n",
       "      <td>NaN</td>\n",
       "      <td>NaN</td>\n",
       "      <td>NaN</td>\n",
       "      <td>NaN</td>\n",
       "      <td>NaN</td>\n",
       "      <td>NaN</td>\n",
       "      <td>NaN</td>\n",
       "      <td>NaN</td>\n",
       "      <td>NaN</td>\n",
       "    </tr>\n",
       "    <tr>\n",
       "      <td>3</td>\n",
       "      <td>-4.17</td>\n",
       "      <td>-4.61</td>\n",
       "      <td>-0.10</td>\n",
       "      <td>0.05</td>\n",
       "      <td>8.98</td>\n",
       "      <td>9.27</td>\n",
       "      <td>-6.99</td>\n",
       "      <td>0.49</td>\n",
       "      <td>-3.40</td>\n",
       "      <td>-1.65</td>\n",
       "      <td>...</td>\n",
       "      <td>NaN</td>\n",
       "      <td>NaN</td>\n",
       "      <td>NaN</td>\n",
       "      <td>NaN</td>\n",
       "      <td>NaN</td>\n",
       "      <td>NaN</td>\n",
       "      <td>NaN</td>\n",
       "      <td>NaN</td>\n",
       "      <td>NaN</td>\n",
       "      <td>NaN</td>\n",
       "    </tr>\n",
       "    <tr>\n",
       "      <td>4</td>\n",
       "      <td>5.15</td>\n",
       "      <td>5.39</td>\n",
       "      <td>7.52</td>\n",
       "      <td>6.26</td>\n",
       "      <td>7.67</td>\n",
       "      <td>3.45</td>\n",
       "      <td>5.44</td>\n",
       "      <td>-0.58</td>\n",
       "      <td>1.26</td>\n",
       "      <td>4.03</td>\n",
       "      <td>...</td>\n",
       "      <td>3.64</td>\n",
       "      <td>4.32</td>\n",
       "      <td>6.99</td>\n",
       "      <td>-9.66</td>\n",
       "      <td>-8.4</td>\n",
       "      <td>-0.63</td>\n",
       "      <td>9.51</td>\n",
       "      <td>-7.67</td>\n",
       "      <td>-1.6</td>\n",
       "      <td>8.3</td>\n",
       "    </tr>\n",
       "    <tr>\n",
       "      <td>...</td>\n",
       "      <td>...</td>\n",
       "      <td>...</td>\n",
       "      <td>...</td>\n",
       "      <td>...</td>\n",
       "      <td>...</td>\n",
       "      <td>...</td>\n",
       "      <td>...</td>\n",
       "      <td>...</td>\n",
       "      <td>...</td>\n",
       "      <td>...</td>\n",
       "      <td>...</td>\n",
       "      <td>...</td>\n",
       "      <td>...</td>\n",
       "      <td>...</td>\n",
       "      <td>...</td>\n",
       "      <td>...</td>\n",
       "      <td>...</td>\n",
       "      <td>...</td>\n",
       "      <td>...</td>\n",
       "      <td>...</td>\n",
       "      <td>...</td>\n",
       "    </tr>\n",
       "    <tr>\n",
       "      <td>95</td>\n",
       "      <td>6.31</td>\n",
       "      <td>-1.02</td>\n",
       "      <td>3.98</td>\n",
       "      <td>3.93</td>\n",
       "      <td>9.13</td>\n",
       "      <td>1.94</td>\n",
       "      <td>0.44</td>\n",
       "      <td>1.21</td>\n",
       "      <td>6.94</td>\n",
       "      <td>1.12</td>\n",
       "      <td>...</td>\n",
       "      <td>2.28</td>\n",
       "      <td>NaN</td>\n",
       "      <td>NaN</td>\n",
       "      <td>NaN</td>\n",
       "      <td>NaN</td>\n",
       "      <td>NaN</td>\n",
       "      <td>NaN</td>\n",
       "      <td>NaN</td>\n",
       "      <td>NaN</td>\n",
       "      <td>NaN</td>\n",
       "    </tr>\n",
       "    <tr>\n",
       "      <td>96</td>\n",
       "      <td>-4.95</td>\n",
       "      <td>-0.97</td>\n",
       "      <td>-6.46</td>\n",
       "      <td>-2.57</td>\n",
       "      <td>9.17</td>\n",
       "      <td>1.99</td>\n",
       "      <td>-0.78</td>\n",
       "      <td>5.34</td>\n",
       "      <td>5.83</td>\n",
       "      <td>0.78</td>\n",
       "      <td>...</td>\n",
       "      <td>NaN</td>\n",
       "      <td>NaN</td>\n",
       "      <td>NaN</td>\n",
       "      <td>NaN</td>\n",
       "      <td>NaN</td>\n",
       "      <td>0.78</td>\n",
       "      <td>NaN</td>\n",
       "      <td>NaN</td>\n",
       "      <td>NaN</td>\n",
       "      <td>NaN</td>\n",
       "    </tr>\n",
       "    <tr>\n",
       "      <td>97</td>\n",
       "      <td>-0.19</td>\n",
       "      <td>4.13</td>\n",
       "      <td>-6.89</td>\n",
       "      <td>1.07</td>\n",
       "      <td>9.17</td>\n",
       "      <td>3.45</td>\n",
       "      <td>-1.02</td>\n",
       "      <td>1.94</td>\n",
       "      <td>5.53</td>\n",
       "      <td>4.76</td>\n",
       "      <td>...</td>\n",
       "      <td>NaN</td>\n",
       "      <td>NaN</td>\n",
       "      <td>NaN</td>\n",
       "      <td>NaN</td>\n",
       "      <td>NaN</td>\n",
       "      <td>NaN</td>\n",
       "      <td>NaN</td>\n",
       "      <td>NaN</td>\n",
       "      <td>NaN</td>\n",
       "      <td>NaN</td>\n",
       "    </tr>\n",
       "    <tr>\n",
       "      <td>98</td>\n",
       "      <td>3.25</td>\n",
       "      <td>-1.84</td>\n",
       "      <td>-2.33</td>\n",
       "      <td>2.33</td>\n",
       "      <td>9.08</td>\n",
       "      <td>9.17</td>\n",
       "      <td>1.70</td>\n",
       "      <td>3.06</td>\n",
       "      <td>6.55</td>\n",
       "      <td>7.86</td>\n",
       "      <td>...</td>\n",
       "      <td>7.33</td>\n",
       "      <td>NaN</td>\n",
       "      <td>NaN</td>\n",
       "      <td>NaN</td>\n",
       "      <td>NaN</td>\n",
       "      <td>NaN</td>\n",
       "      <td>NaN</td>\n",
       "      <td>NaN</td>\n",
       "      <td>NaN</td>\n",
       "      <td>NaN</td>\n",
       "    </tr>\n",
       "    <tr>\n",
       "      <td>99</td>\n",
       "      <td>4.37</td>\n",
       "      <td>2.96</td>\n",
       "      <td>-7.38</td>\n",
       "      <td>-0.34</td>\n",
       "      <td>8.98</td>\n",
       "      <td>-1.55</td>\n",
       "      <td>4.22</td>\n",
       "      <td>3.59</td>\n",
       "      <td>3.83</td>\n",
       "      <td>2.09</td>\n",
       "      <td>...</td>\n",
       "      <td>NaN</td>\n",
       "      <td>NaN</td>\n",
       "      <td>NaN</td>\n",
       "      <td>NaN</td>\n",
       "      <td>NaN</td>\n",
       "      <td>NaN</td>\n",
       "      <td>NaN</td>\n",
       "      <td>NaN</td>\n",
       "      <td>NaN</td>\n",
       "      <td>NaN</td>\n",
       "    </tr>\n",
       "  </tbody>\n",
       "</table>\n",
       "<p>100 rows × 73422 columns</p>\n",
       "</div>"
      ],
      "text/plain": [
       "    User1  User2  User3  User4  User5  User6  User7  User8  User9  User10  \\\n",
       "0    5.10  -8.79  -3.50   7.14  -8.79   9.22  -4.03   3.11  -3.64   -7.67   \n",
       "1    4.90  -0.87  -2.91  -3.88  -0.58   9.37  -1.55   0.92  -3.35   -5.15   \n",
       "2    1.75   1.99  -2.18  -3.06  -0.58  -3.93  -3.64   7.52  -6.46   -3.25   \n",
       "3   -4.17  -4.61  -0.10   0.05   8.98   9.27  -6.99   0.49  -3.40   -1.65   \n",
       "4    5.15   5.39   7.52   6.26   7.67   3.45   5.44  -0.58   1.26    4.03   \n",
       "..    ...    ...    ...    ...    ...    ...    ...    ...    ...     ...   \n",
       "95   6.31  -1.02   3.98   3.93   9.13   1.94   0.44   1.21   6.94    1.12   \n",
       "96  -4.95  -0.97  -6.46  -2.57   9.17   1.99  -0.78   5.34   5.83    0.78   \n",
       "97  -0.19   4.13  -6.89   1.07   9.17   3.45  -1.02   1.94   5.53    4.76   \n",
       "98   3.25  -1.84  -2.33   2.33   9.08   9.17   1.70   3.06   6.55    7.86   \n",
       "99   4.37   2.96  -7.38  -0.34   8.98  -1.55   4.22   3.59   3.83    2.09   \n",
       "\n",
       "    ...  User73412  User73413  User73414  User73415  User73416  User73417  \\\n",
       "0   ...        NaN        NaN        NaN        NaN        NaN        NaN   \n",
       "1   ...        NaN        NaN        NaN        NaN        NaN        NaN   \n",
       "2   ...        NaN        NaN        NaN        NaN        NaN        NaN   \n",
       "3   ...        NaN        NaN        NaN        NaN        NaN        NaN   \n",
       "4   ...       3.64       4.32       6.99      -9.66       -8.4      -0.63   \n",
       "..  ...        ...        ...        ...        ...        ...        ...   \n",
       "95  ...       2.28        NaN        NaN        NaN        NaN        NaN   \n",
       "96  ...        NaN        NaN        NaN        NaN        NaN       0.78   \n",
       "97  ...        NaN        NaN        NaN        NaN        NaN        NaN   \n",
       "98  ...       7.33        NaN        NaN        NaN        NaN        NaN   \n",
       "99  ...        NaN        NaN        NaN        NaN        NaN        NaN   \n",
       "\n",
       "    User73418  User73419  User73420  User73421  \n",
       "0         NaN        NaN        NaN        NaN  \n",
       "1         NaN        NaN        NaN        NaN  \n",
       "2         NaN        NaN        NaN        NaN  \n",
       "3         NaN        NaN        NaN        NaN  \n",
       "4        9.51      -7.67       -1.6        8.3  \n",
       "..        ...        ...        ...        ...  \n",
       "95        NaN        NaN        NaN        NaN  \n",
       "96        NaN        NaN        NaN        NaN  \n",
       "97        NaN        NaN        NaN        NaN  \n",
       "98        NaN        NaN        NaN        NaN  \n",
       "99        NaN        NaN        NaN        NaN  \n",
       "\n",
       "[100 rows x 73422 columns]"
      ]
     },
     "execution_count": 2,
     "metadata": {},
     "output_type": "execute_result"
    }
   ],
   "source": [
    "input_path = '../joke_recommender/data/'\n",
    "df = pd.read_csv(input_path + 'joke_dataframe.csv')\n",
    "df = df.drop(['Unnamed: 0', 'JokeId'], axis = 1)\n",
    "df"
   ]
  },
  {
   "cell_type": "code",
   "execution_count": 19,
   "metadata": {},
   "outputs": [
    {
     "data": {
      "text/plain": [
       "array([[1.77986437, 1.06564799, 1.33225458, ..., 0.        , 0.        ,\n",
       "        0.        ],\n",
       "       [1.7694314 , 1.51386531, 1.36407767, ..., 0.        , 0.        ,\n",
       "        0.        ],\n",
       "       [1.60511215, 1.67572156, 1.403452  , ..., 0.        , 0.        ,\n",
       "        0.        ],\n",
       "       ...,\n",
       "       [1.50391236, 1.79683079, 1.14940669, ..., 0.        , 0.        ,\n",
       "        0.        ],\n",
       "       [1.68335942, 1.45897001, 1.39536138, ..., 0.        , 0.        ,\n",
       "        0.        ],\n",
       "       [1.74178404, 1.73061686, 1.12297735, ..., 0.        , 0.        ,\n",
       "        0.        ]])"
      ]
     },
     "execution_count": 19,
     "metadata": {},
     "output_type": "execute_result"
    }
   ],
   "source": [
    "X = np.array(df)\n",
    "scaler = MinMaxScaler(feature_range=(1,2))\n",
    "scaler.fit(X)\n",
    "X_transform = scaler.transform(X)\n",
    "X = np.nan_to_num(X_transform)\n",
    "X"
   ]
  },
  {
   "cell_type": "code",
   "execution_count": 4,
   "metadata": {},
   "outputs": [
    {
     "data": {
      "text/html": [
       "<div>\n",
       "<style scoped>\n",
       "    .dataframe tbody tr th:only-of-type {\n",
       "        vertical-align: middle;\n",
       "    }\n",
       "\n",
       "    .dataframe tbody tr th {\n",
       "        vertical-align: top;\n",
       "    }\n",
       "\n",
       "    .dataframe thead th {\n",
       "        text-align: right;\n",
       "    }\n",
       "</style>\n",
       "<table border=\"1\" class=\"dataframe\">\n",
       "  <thead>\n",
       "    <tr style=\"text-align: right;\">\n",
       "      <th></th>\n",
       "      <th>0</th>\n",
       "      <th>1</th>\n",
       "      <th>2</th>\n",
       "      <th>3</th>\n",
       "      <th>4</th>\n",
       "      <th>5</th>\n",
       "      <th>6</th>\n",
       "      <th>7</th>\n",
       "      <th>8</th>\n",
       "      <th>9</th>\n",
       "      <th>...</th>\n",
       "      <th>73412</th>\n",
       "      <th>73413</th>\n",
       "      <th>73414</th>\n",
       "      <th>73415</th>\n",
       "      <th>73416</th>\n",
       "      <th>73417</th>\n",
       "      <th>73418</th>\n",
       "      <th>73419</th>\n",
       "      <th>73420</th>\n",
       "      <th>73421</th>\n",
       "    </tr>\n",
       "  </thead>\n",
       "  <tbody>\n",
       "    <tr>\n",
       "      <td>0</td>\n",
       "      <td>1.779864</td>\n",
       "      <td>1.065648</td>\n",
       "      <td>1.332255</td>\n",
       "      <td>1.898623</td>\n",
       "      <td>1.057602</td>\n",
       "      <td>1.992216</td>\n",
       "      <td>1.350401</td>\n",
       "      <td>1.688979</td>\n",
       "      <td>1.246819</td>\n",
       "      <td>1.114807</td>\n",
       "      <td>...</td>\n",
       "      <td>0.000000</td>\n",
       "      <td>0.000000</td>\n",
       "      <td>0.00000</td>\n",
       "      <td>0.0</td>\n",
       "      <td>0.000000</td>\n",
       "      <td>0.000000</td>\n",
       "      <td>0.0</td>\n",
       "      <td>0.000000</td>\n",
       "      <td>0.000000</td>\n",
       "      <td>0.000000</td>\n",
       "    </tr>\n",
       "    <tr>\n",
       "      <td>1</td>\n",
       "      <td>1.769431</td>\n",
       "      <td>1.513865</td>\n",
       "      <td>1.364078</td>\n",
       "      <td>1.291460</td>\n",
       "      <td>1.483653</td>\n",
       "      <td>2.000000</td>\n",
       "      <td>1.503393</td>\n",
       "      <td>1.562608</td>\n",
       "      <td>1.265267</td>\n",
       "      <td>1.250000</td>\n",
       "      <td>...</td>\n",
       "      <td>0.000000</td>\n",
       "      <td>0.000000</td>\n",
       "      <td>0.00000</td>\n",
       "      <td>0.0</td>\n",
       "      <td>0.000000</td>\n",
       "      <td>0.000000</td>\n",
       "      <td>0.0</td>\n",
       "      <td>0.000000</td>\n",
       "      <td>0.000000</td>\n",
       "      <td>0.000000</td>\n",
       "    </tr>\n",
       "    <tr>\n",
       "      <td>2</td>\n",
       "      <td>1.605112</td>\n",
       "      <td>1.675722</td>\n",
       "      <td>1.403452</td>\n",
       "      <td>1.336639</td>\n",
       "      <td>1.483653</td>\n",
       "      <td>1.309808</td>\n",
       "      <td>1.374460</td>\n",
       "      <td>1.943451</td>\n",
       "      <td>1.067430</td>\n",
       "      <td>1.351931</td>\n",
       "      <td>...</td>\n",
       "      <td>0.000000</td>\n",
       "      <td>0.000000</td>\n",
       "      <td>0.00000</td>\n",
       "      <td>0.0</td>\n",
       "      <td>0.000000</td>\n",
       "      <td>0.000000</td>\n",
       "      <td>0.0</td>\n",
       "      <td>0.000000</td>\n",
       "      <td>0.000000</td>\n",
       "      <td>0.000000</td>\n",
       "    </tr>\n",
       "    <tr>\n",
       "      <td>3</td>\n",
       "      <td>1.296296</td>\n",
       "      <td>1.302207</td>\n",
       "      <td>1.515642</td>\n",
       "      <td>1.507989</td>\n",
       "      <td>1.979761</td>\n",
       "      <td>1.994811</td>\n",
       "      <td>1.167798</td>\n",
       "      <td>1.537796</td>\n",
       "      <td>1.262087</td>\n",
       "      <td>1.437768</td>\n",
       "      <td>...</td>\n",
       "      <td>0.000000</td>\n",
       "      <td>0.000000</td>\n",
       "      <td>0.00000</td>\n",
       "      <td>0.0</td>\n",
       "      <td>0.000000</td>\n",
       "      <td>0.000000</td>\n",
       "      <td>0.0</td>\n",
       "      <td>0.000000</td>\n",
       "      <td>0.000000</td>\n",
       "      <td>0.000000</td>\n",
       "    </tr>\n",
       "    <tr>\n",
       "      <td>4</td>\n",
       "      <td>1.782473</td>\n",
       "      <td>1.868138</td>\n",
       "      <td>1.926645</td>\n",
       "      <td>1.850138</td>\n",
       "      <td>1.911780</td>\n",
       "      <td>1.692787</td>\n",
       "      <td>1.934608</td>\n",
       "      <td>1.476053</td>\n",
       "      <td>1.558524</td>\n",
       "      <td>1.742489</td>\n",
       "      <td>...</td>\n",
       "      <td>1.707087</td>\n",
       "      <td>1.765074</td>\n",
       "      <td>1.19598</td>\n",
       "      <td>1.0</td>\n",
       "      <td>1.079971</td>\n",
       "      <td>1.784543</td>\n",
       "      <td>2.0</td>\n",
       "      <td>1.142857</td>\n",
       "      <td>1.595135</td>\n",
       "      <td>1.877922</td>\n",
       "    </tr>\n",
       "  </tbody>\n",
       "</table>\n",
       "<p>5 rows × 73422 columns</p>\n",
       "</div>"
      ],
      "text/plain": [
       "      0         1         2         3         4         5         6      \\\n",
       "0  1.779864  1.065648  1.332255  1.898623  1.057602  1.992216  1.350401   \n",
       "1  1.769431  1.513865  1.364078  1.291460  1.483653  2.000000  1.503393   \n",
       "2  1.605112  1.675722  1.403452  1.336639  1.483653  1.309808  1.374460   \n",
       "3  1.296296  1.302207  1.515642  1.507989  1.979761  1.994811  1.167798   \n",
       "4  1.782473  1.868138  1.926645  1.850138  1.911780  1.692787  1.934608   \n",
       "\n",
       "      7         8         9      ...     73412     73413    73414  73415  \\\n",
       "0  1.688979  1.246819  1.114807  ...  0.000000  0.000000  0.00000    0.0   \n",
       "1  1.562608  1.265267  1.250000  ...  0.000000  0.000000  0.00000    0.0   \n",
       "2  1.943451  1.067430  1.351931  ...  0.000000  0.000000  0.00000    0.0   \n",
       "3  1.537796  1.262087  1.437768  ...  0.000000  0.000000  0.00000    0.0   \n",
       "4  1.476053  1.558524  1.742489  ...  1.707087  1.765074  1.19598    1.0   \n",
       "\n",
       "      73416     73417  73418     73419     73420     73421  \n",
       "0  0.000000  0.000000    0.0  0.000000  0.000000  0.000000  \n",
       "1  0.000000  0.000000    0.0  0.000000  0.000000  0.000000  \n",
       "2  0.000000  0.000000    0.0  0.000000  0.000000  0.000000  \n",
       "3  0.000000  0.000000    0.0  0.000000  0.000000  0.000000  \n",
       "4  1.079971  1.784543    2.0  1.142857  1.595135  1.877922  \n",
       "\n",
       "[5 rows x 73422 columns]"
      ]
     },
     "execution_count": 4,
     "metadata": {},
     "output_type": "execute_result"
    }
   ],
   "source": [
    "# X = pd.DataFrame(X)\n",
    "# # X.to_csv('scaled_df.csv')\n",
    "# X.head(5)"
   ]
  },
  {
   "cell_type": "code",
   "execution_count": 5,
   "metadata": {},
   "outputs": [
    {
     "data": {
      "text/plain": [
       "<matplotlib.axes._subplots.AxesSubplot at 0x7faf1eca0ba8>"
      ]
     },
     "execution_count": 5,
     "metadata": {},
     "output_type": "execute_result"
    },
    {
     "data": {
      "image/png": "[encoded data removed]",
      "text/plain": [
       "<Figure size 432x288 with 1 Axes>"
      ]
     },
     "metadata": {
      "needs_background": "light"
     },
     "output_type": "display_data"
    }
   ],
   "source": [
    "svd = TruncatedSVD(n_components=50)\n",
    "svd.fit(X)\n",
    "evr = svd.explained_variance_ratio_\n",
    "sns.lineplot(x = range(0,50), y = evr)"
   ]
  },
  {
   "cell_type": "code",
   "execution_count": 6,
   "metadata": {},
   "outputs": [
    {
     "data": {
      "text/plain": [
       "<matplotlib.axes._subplots.AxesSubplot at 0x7faf097a3a90>"
      ]
     },
     "execution_count": 6,
     "metadata": {},
     "output_type": "execute_result"
    },
    {
     "data": {
      "image/png": "[encoded data removed]",
      "text/plain": [
       "<Figure size 432x288 with 1 Axes>"
      ]
     },
     "metadata": {
      "needs_background": "light"
     },
     "output_type": "display_data"
    }
   ],
   "source": [
    "evr_sum = np.cumsum(evr)\n",
    "sns.lineplot(x = range(0,50), y = evr_sum)"
   ]
  },
  {
   "cell_type": "code",
   "execution_count": 8,
   "metadata": {},
   "outputs": [
    {
     "data": {
      "text/plain": [
       "(array([25, 26, 27, 28, 29, 30]),)"
      ]
     },
     "execution_count": 8,
     "metadata": {},
     "output_type": "execute_result"
    }
   ],
   "source": [
    "#We chose a evr_sum of 0.8\n",
    "np.where(np.logical_and (evr_sum > 0.79, evr_sum < 0.81))"
   ]
  },
  {
   "cell_type": "code",
   "execution_count": 36,
   "metadata": {},
   "outputs": [],
   "source": [
    "# We chose 28 principal components\n",
    "opt_svd = TruncatedSVD(n_components=100)\n",
    "svd_X = opt_svd.fit_transform(X)"
   ]
  },
  {
   "cell_type": "code",
   "execution_count": 10,
   "metadata": {},
   "outputs": [],
   "source": [
    "# df2 = df.head(2)\n",
    "# corr = df2.corr()\n",
    "# ax = sns.heatmap(corr, vmin = 1, vmax = 2, center = 0, cmap=sns.diverging_palette(20,220,n=200), square = True);"
   ]
  },
  {
   "cell_type": "code",
   "execution_count": 11,
   "metadata": {},
   "outputs": [
    {
     "data": {
      "text/plain": [
       "(100, 28)"
      ]
     },
     "execution_count": 11,
     "metadata": {},
     "output_type": "execute_result"
    }
   ],
   "source": [
    "svd_X.shape"
   ]
  },
  {
   "cell_type": "code",
   "execution_count": 37,
   "metadata": {},
   "outputs": [
    {
     "data": {
      "text/plain": [
       "<matplotlib.collections.PathCollection at 0x7faf09853b70>"
      ]
     },
     "execution_count": 37,
     "metadata": {},
     "output_type": "execute_result"
    },
    {
     "data": {
      "image/png": "[encoded data removed]",
      "text/plain": [
       "<Figure size 432x288 with 1 Axes>"
      ]
     },
     "metadata": {
      "needs_background": "light"
     },
     "output_type": "display_data"
    }
   ],
   "source": [
    "plt.scatter(svd_X[:,0],svd_X[:,1])"
   ]
  },
  {
   "cell_type": "code",
   "execution_count": 38,
   "metadata": {},
   "outputs": [],
   "source": [
    "k_value = 6\n",
    "kmeans_svd = MiniBatchKMeans(n_clusters=k_value, batch_size = 100, init= 'k-means++', max_iter = 100)\n",
    "fitted_values_svd = kmeans_svd.fit(svd_X)\n",
    "predicted_values_svd = kmeans_svd.predict(svd_X)"
   ]
  },
  {
   "cell_type": "code",
   "execution_count": 39,
   "metadata": {},
   "outputs": [
    {
     "data": {
      "text/plain": [
       "Text(0.5, 1.0, 'K-Means Clustering Visualized Using PC1 and PC2')"
      ]
     },
     "execution_count": 39,
     "metadata": {},
     "output_type": "execute_result"
    },
    {
     "data": {
      "image/png": "[encoded data removed]",
      "text/plain": [
       "<Figure size 648x648 with 1 Axes>"
      ]
     },
     "metadata": {
      "needs_background": "light"
     },
     "output_type": "display_data"
    }
   ],
   "source": [
    "centers = kmeans_svd.cluster_centers_\n",
    "plt.figure(figsize = (9,9))\n",
    "plt.scatter(svd_X[:,0], svd_X[:,1], c=predicted_values_svd, s=50, cmap='viridis')\n",
    "plt.scatter(centers[:,0], centers[:,1], c='black', s=100, alpha=0.75)\n",
    "plt.title('K-Means Clustering Visualized Using PC1 and PC2')\n",
    "# plt.savefig(image_path + 'Kmeans_Clustering_on_Text_Data.png')"
   ]
  },
  {
   "cell_type": "code",
   "execution_count": 53,
   "metadata": {},
   "outputs": [
    {
     "data": {
      "text/plain": [
       "[array([0, 7, 6, 3, 8]),\n",
       " array([0, 2, 3, 5, 7]),\n",
       " array([ 0,  1,  2,  6, 62]),\n",
       " array([ 0,  1,  3,  4, 13]),\n",
       " array([ 0,  4, 90, 18, 64]),\n",
       " array([ 0,  3, 15,  5, 10])]"
      ]
     },
     "execution_count": 53,
     "metadata": {},
     "output_type": "execute_result"
    }
   ],
   "source": [
    "# the highest rated jokes in each of the 6 clusters\n",
    "[centers[i].argsort()[-5:][::-1] for i in range(len(centers))]"
   ]
  },
  {
   "cell_type": "code",
   "execution_count": null,
   "metadata": {},
   "outputs": [],
   "source": []
  }
 ],
 "metadata": {
  "kernelspec": {
   "display_name": "Python 3",
   "language": "python",
   "name": "python3"
  },
  "language_info": {
   "codemirror_mode": {
    "name": "ipython",
    "version": 3
   },
   "file_extension": ".py",
   "mimetype": "text/x-python",
   "name": "python",
   "nbconvert_exporter": "python",
   "pygments_lexer": "ipython3",
   "version": "3.7.3"
  },
  "toc": {
   "base_numbering": 1,
   "nav_menu": {},
   "number_sections": true,
   "sideBar": true,
   "skip_h1_title": false,
   "title_cell": "Table of Contents",
   "title_sidebar": "Contents",
   "toc_cell": false,
   "toc_position": {},
   "toc_section_display": true,
   "toc_window_display": false
  }
 },
 "nbformat": 4,
 "nbformat_minor": 2
}
