{
 "cells": [
  {
   "cell_type": "code",
   "execution_count": 2,
   "metadata": {},
   "outputs": [],
   "source": [
    "import pandas as pd\n",
    "import numpy as np\n",
    "from PIL import Image\n",
    "import seaborn as sns\n",
    "import csv\n",
    "#from wordcloud import WordCloud, STOPWORDS, ImageColorGenerator\n",
    "\n",
    "from tqdm import tqdm_notebook\n",
    "import matplotlib.pyplot as plt\n",
    "from sklearn.decomposition import FastICA, TruncatedSVD\n",
    "from scipy import signal\n",
    "from sklearn.preprocessing import MinMaxScaler\n",
    "\n",
    "\n",
    "%matplotlib inline"
   ]
  },
  {
   "cell_type": "code",
   "execution_count": 3,
   "metadata": {},
   "outputs": [
    {
     "data": {
      "text/html": [
       "<div>\n",
       "<style scoped>\n",
       "    .dataframe tbody tr th:only-of-type {\n",
       "        vertical-align: middle;\n",
       "    }\n",
       "\n",
       "    .dataframe tbody tr th {\n",
       "        vertical-align: top;\n",
       "    }\n",
       "\n",
       "    .dataframe thead th {\n",
       "        text-align: right;\n",
       "    }\n",
       "</style>\n",
       "<table border=\"1\" class=\"dataframe\">\n",
       "  <thead>\n",
       "    <tr style=\"text-align: right;\">\n",
       "      <th></th>\n",
       "      <th>User1</th>\n",
       "      <th>User2</th>\n",
       "      <th>User3</th>\n",
       "      <th>User4</th>\n",
       "      <th>User5</th>\n",
       "      <th>User6</th>\n",
       "      <th>User7</th>\n",
       "      <th>User8</th>\n",
       "      <th>User9</th>\n",
       "      <th>User10</th>\n",
       "      <th>...</th>\n",
       "      <th>User73412</th>\n",
       "      <th>User73413</th>\n",
       "      <th>User73414</th>\n",
       "      <th>User73415</th>\n",
       "      <th>User73416</th>\n",
       "      <th>User73417</th>\n",
       "      <th>User73418</th>\n",
       "      <th>User73419</th>\n",
       "      <th>User73420</th>\n",
       "      <th>User73421</th>\n",
       "    </tr>\n",
       "  </thead>\n",
       "  <tbody>\n",
       "    <tr>\n",
       "      <td>0</td>\n",
       "      <td>5.10</td>\n",
       "      <td>-8.79</td>\n",
       "      <td>-3.50</td>\n",
       "      <td>7.14</td>\n",
       "      <td>-8.79</td>\n",
       "      <td>9.22</td>\n",
       "      <td>-4.03</td>\n",
       "      <td>3.11</td>\n",
       "      <td>-3.64</td>\n",
       "      <td>-7.67</td>\n",
       "      <td>...</td>\n",
       "      <td>NaN</td>\n",
       "      <td>NaN</td>\n",
       "      <td>NaN</td>\n",
       "      <td>NaN</td>\n",
       "      <td>NaN</td>\n",
       "      <td>NaN</td>\n",
       "      <td>NaN</td>\n",
       "      <td>NaN</td>\n",
       "      <td>NaN</td>\n",
       "      <td>NaN</td>\n",
       "    </tr>\n",
       "    <tr>\n",
       "      <td>1</td>\n",
       "      <td>4.90</td>\n",
       "      <td>-0.87</td>\n",
       "      <td>-2.91</td>\n",
       "      <td>-3.88</td>\n",
       "      <td>-0.58</td>\n",
       "      <td>9.37</td>\n",
       "      <td>-1.55</td>\n",
       "      <td>0.92</td>\n",
       "      <td>-3.35</td>\n",
       "      <td>-5.15</td>\n",
       "      <td>...</td>\n",
       "      <td>NaN</td>\n",
       "      <td>NaN</td>\n",
       "      <td>NaN</td>\n",
       "      <td>NaN</td>\n",
       "      <td>NaN</td>\n",
       "      <td>NaN</td>\n",
       "      <td>NaN</td>\n",
       "      <td>NaN</td>\n",
       "      <td>NaN</td>\n",
       "      <td>NaN</td>\n",
       "    </tr>\n",
       "    <tr>\n",
       "      <td>2</td>\n",
       "      <td>1.75</td>\n",
       "      <td>1.99</td>\n",
       "      <td>-2.18</td>\n",
       "      <td>-3.06</td>\n",
       "      <td>-0.58</td>\n",
       "      <td>-3.93</td>\n",
       "      <td>-3.64</td>\n",
       "      <td>7.52</td>\n",
       "      <td>-6.46</td>\n",
       "      <td>-3.25</td>\n",
       "      <td>...</td>\n",
       "      <td>NaN</td>\n",
       "      <td>NaN</td>\n",
       "      <td>NaN</td>\n",
       "      <td>NaN</td>\n",
       "      <td>NaN</td>\n",
       "      <td>NaN</td>\n",
       "      <td>NaN</td>\n",
       "      <td>NaN</td>\n",
       "      <td>NaN</td>\n",
       "      <td>NaN</td>\n",
       "    </tr>\n",
       "    <tr>\n",
       "      <td>3</td>\n",
       "      <td>-4.17</td>\n",
       "      <td>-4.61</td>\n",
       "      <td>-0.10</td>\n",
       "      <td>0.05</td>\n",
       "      <td>8.98</td>\n",
       "      <td>9.27</td>\n",
       "      <td>-6.99</td>\n",
       "      <td>0.49</td>\n",
       "      <td>-3.40</td>\n",
       "      <td>-1.65</td>\n",
       "      <td>...</td>\n",
       "      <td>NaN</td>\n",
       "      <td>NaN</td>\n",
       "      <td>NaN</td>\n",
       "      <td>NaN</td>\n",
       "      <td>NaN</td>\n",
       "      <td>NaN</td>\n",
       "      <td>NaN</td>\n",
       "      <td>NaN</td>\n",
       "      <td>NaN</td>\n",
       "      <td>NaN</td>\n",
       "    </tr>\n",
       "    <tr>\n",
       "      <td>4</td>\n",
       "      <td>5.15</td>\n",
       "      <td>5.39</td>\n",
       "      <td>7.52</td>\n",
       "      <td>6.26</td>\n",
       "      <td>7.67</td>\n",
       "      <td>3.45</td>\n",
       "      <td>5.44</td>\n",
       "      <td>-0.58</td>\n",
       "      <td>1.26</td>\n",
       "      <td>4.03</td>\n",
       "      <td>...</td>\n",
       "      <td>3.64</td>\n",
       "      <td>4.32</td>\n",
       "      <td>6.99</td>\n",
       "      <td>-9.66</td>\n",
       "      <td>-8.4</td>\n",
       "      <td>-0.63</td>\n",
       "      <td>9.51</td>\n",
       "      <td>-7.67</td>\n",
       "      <td>-1.6</td>\n",
       "      <td>8.3</td>\n",
       "    </tr>\n",
       "    <tr>\n",
       "      <td>...</td>\n",
       "      <td>...</td>\n",
       "      <td>...</td>\n",
       "      <td>...</td>\n",
       "      <td>...</td>\n",
       "      <td>...</td>\n",
       "      <td>...</td>\n",
       "      <td>...</td>\n",
       "      <td>...</td>\n",
       "      <td>...</td>\n",
       "      <td>...</td>\n",
       "      <td>...</td>\n",
       "      <td>...</td>\n",
       "      <td>...</td>\n",
       "      <td>...</td>\n",
       "      <td>...</td>\n",
       "      <td>...</td>\n",
       "      <td>...</td>\n",
       "      <td>...</td>\n",
       "      <td>...</td>\n",
       "      <td>...</td>\n",
       "      <td>...</td>\n",
       "    </tr>\n",
       "    <tr>\n",
       "      <td>95</td>\n",
       "      <td>6.31</td>\n",
       "      <td>-1.02</td>\n",
       "      <td>3.98</td>\n",
       "      <td>3.93</td>\n",
       "      <td>9.13</td>\n",
       "      <td>1.94</td>\n",
       "      <td>0.44</td>\n",
       "      <td>1.21</td>\n",
       "      <td>6.94</td>\n",
       "      <td>1.12</td>\n",
       "      <td>...</td>\n",
       "      <td>2.28</td>\n",
       "      <td>NaN</td>\n",
       "      <td>NaN</td>\n",
       "      <td>NaN</td>\n",
       "      <td>NaN</td>\n",
       "      <td>NaN</td>\n",
       "      <td>NaN</td>\n",
       "      <td>NaN</td>\n",
       "      <td>NaN</td>\n",
       "      <td>NaN</td>\n",
       "    </tr>\n",
       "    <tr>\n",
       "      <td>96</td>\n",
       "      <td>-4.95</td>\n",
       "      <td>-0.97</td>\n",
       "      <td>-6.46</td>\n",
       "      <td>-2.57</td>\n",
       "      <td>9.17</td>\n",
       "      <td>1.99</td>\n",
       "      <td>-0.78</td>\n",
       "      <td>5.34</td>\n",
       "      <td>5.83</td>\n",
       "      <td>0.78</td>\n",
       "      <td>...</td>\n",
       "      <td>NaN</td>\n",
       "      <td>NaN</td>\n",
       "      <td>NaN</td>\n",
       "      <td>NaN</td>\n",
       "      <td>NaN</td>\n",
       "      <td>0.78</td>\n",
       "      <td>NaN</td>\n",
       "      <td>NaN</td>\n",
       "      <td>NaN</td>\n",
       "      <td>NaN</td>\n",
       "    </tr>\n",
       "    <tr>\n",
       "      <td>97</td>\n",
       "      <td>-0.19</td>\n",
       "      <td>4.13</td>\n",
       "      <td>-6.89</td>\n",
       "      <td>1.07</td>\n",
       "      <td>9.17</td>\n",
       "      <td>3.45</td>\n",
       "      <td>-1.02</td>\n",
       "      <td>1.94</td>\n",
       "      <td>5.53</td>\n",
       "      <td>4.76</td>\n",
       "      <td>...</td>\n",
       "      <td>NaN</td>\n",
       "      <td>NaN</td>\n",
       "      <td>NaN</td>\n",
       "      <td>NaN</td>\n",
       "      <td>NaN</td>\n",
       "      <td>NaN</td>\n",
       "      <td>NaN</td>\n",
       "      <td>NaN</td>\n",
       "      <td>NaN</td>\n",
       "      <td>NaN</td>\n",
       "    </tr>\n",
       "    <tr>\n",
       "      <td>98</td>\n",
       "      <td>3.25</td>\n",
       "      <td>-1.84</td>\n",
       "      <td>-2.33</td>\n",
       "      <td>2.33</td>\n",
       "      <td>9.08</td>\n",
       "      <td>9.17</td>\n",
       "      <td>1.70</td>\n",
       "      <td>3.06</td>\n",
       "      <td>6.55</td>\n",
       "      <td>7.86</td>\n",
       "      <td>...</td>\n",
       "      <td>7.33</td>\n",
       "      <td>NaN</td>\n",
       "      <td>NaN</td>\n",
       "      <td>NaN</td>\n",
       "      <td>NaN</td>\n",
       "      <td>NaN</td>\n",
       "      <td>NaN</td>\n",
       "      <td>NaN</td>\n",
       "      <td>NaN</td>\n",
       "      <td>NaN</td>\n",
       "    </tr>\n",
       "    <tr>\n",
       "      <td>99</td>\n",
       "      <td>4.37</td>\n",
       "      <td>2.96</td>\n",
       "      <td>-7.38</td>\n",
       "      <td>-0.34</td>\n",
       "      <td>8.98</td>\n",
       "      <td>-1.55</td>\n",
       "      <td>4.22</td>\n",
       "      <td>3.59</td>\n",
       "      <td>3.83</td>\n",
       "      <td>2.09</td>\n",
       "      <td>...</td>\n",
       "      <td>NaN</td>\n",
       "      <td>NaN</td>\n",
       "      <td>NaN</td>\n",
       "      <td>NaN</td>\n",
       "      <td>NaN</td>\n",
       "      <td>NaN</td>\n",
       "      <td>NaN</td>\n",
       "      <td>NaN</td>\n",
       "      <td>NaN</td>\n",
       "      <td>NaN</td>\n",
       "    </tr>\n",
       "  </tbody>\n",
       "</table>\n",
       "<p>100 rows × 73422 columns</p>\n",
       "</div>"
      ],
      "text/plain": [
       "    User1  User2  User3  User4  User5  User6  User7  User8  User9  User10  \\\n",
       "0    5.10  -8.79  -3.50   7.14  -8.79   9.22  -4.03   3.11  -3.64   -7.67   \n",
       "1    4.90  -0.87  -2.91  -3.88  -0.58   9.37  -1.55   0.92  -3.35   -5.15   \n",
       "2    1.75   1.99  -2.18  -3.06  -0.58  -3.93  -3.64   7.52  -6.46   -3.25   \n",
       "3   -4.17  -4.61  -0.10   0.05   8.98   9.27  -6.99   0.49  -3.40   -1.65   \n",
       "4    5.15   5.39   7.52   6.26   7.67   3.45   5.44  -0.58   1.26    4.03   \n",
       "..    ...    ...    ...    ...    ...    ...    ...    ...    ...     ...   \n",
       "95   6.31  -1.02   3.98   3.93   9.13   1.94   0.44   1.21   6.94    1.12   \n",
       "96  -4.95  -0.97  -6.46  -2.57   9.17   1.99  -0.78   5.34   5.83    0.78   \n",
       "97  -0.19   4.13  -6.89   1.07   9.17   3.45  -1.02   1.94   5.53    4.76   \n",
       "98   3.25  -1.84  -2.33   2.33   9.08   9.17   1.70   3.06   6.55    7.86   \n",
       "99   4.37   2.96  -7.38  -0.34   8.98  -1.55   4.22   3.59   3.83    2.09   \n",
       "\n",
       "    ...  User73412  User73413  User73414  User73415  User73416  User73417  \\\n",
       "0   ...        NaN        NaN        NaN        NaN        NaN        NaN   \n",
       "1   ...        NaN        NaN        NaN        NaN        NaN        NaN   \n",
       "2   ...        NaN        NaN        NaN        NaN        NaN        NaN   \n",
       "3   ...        NaN        NaN        NaN        NaN        NaN        NaN   \n",
       "4   ...       3.64       4.32       6.99      -9.66       -8.4      -0.63   \n",
       "..  ...        ...        ...        ...        ...        ...        ...   \n",
       "95  ...       2.28        NaN        NaN        NaN        NaN        NaN   \n",
       "96  ...        NaN        NaN        NaN        NaN        NaN       0.78   \n",
       "97  ...        NaN        NaN        NaN        NaN        NaN        NaN   \n",
       "98  ...       7.33        NaN        NaN        NaN        NaN        NaN   \n",
       "99  ...        NaN        NaN        NaN        NaN        NaN        NaN   \n",
       "\n",
       "    User73418  User73419  User73420  User73421  \n",
       "0         NaN        NaN        NaN        NaN  \n",
       "1         NaN        NaN        NaN        NaN  \n",
       "2         NaN        NaN        NaN        NaN  \n",
       "3         NaN        NaN        NaN        NaN  \n",
       "4        9.51      -7.67       -1.6        8.3  \n",
       "..        ...        ...        ...        ...  \n",
       "95        NaN        NaN        NaN        NaN  \n",
       "96        NaN        NaN        NaN        NaN  \n",
       "97        NaN        NaN        NaN        NaN  \n",
       "98        NaN        NaN        NaN        NaN  \n",
       "99        NaN        NaN        NaN        NaN  \n",
       "\n",
       "[100 rows x 73422 columns]"
      ]
     },
     "execution_count": 3,
     "metadata": {},
     "output_type": "execute_result"
    }
   ],
   "source": [
    "input_path = '../joke_recommender/data/'\n",
    "df = pd.read_csv(input_path + 'joke_dataframe.csv')\n",
    "df = df.drop(['Unnamed: 0', 'JokeId'], axis = 1)\n",
    "df"
   ]
  },
  {
   "cell_type": "code",
   "execution_count": 4,
   "metadata": {},
   "outputs": [
    {
     "data": {
      "text/plain": [
       "array([[1.77986437, 1.06564799, 1.33225458, ..., 0.        , 0.        ,\n",
       "        0.        ],\n",
       "       [1.7694314 , 1.51386531, 1.36407767, ..., 0.        , 0.        ,\n",
       "        0.        ],\n",
       "       [1.60511215, 1.67572156, 1.403452  , ..., 0.        , 0.        ,\n",
       "        0.        ],\n",
       "       ...,\n",
       "       [1.50391236, 1.79683079, 1.14940669, ..., 0.        , 0.        ,\n",
       "        0.        ],\n",
       "       [1.68335942, 1.45897001, 1.39536138, ..., 0.        , 0.        ,\n",
       "        0.        ],\n",
       "       [1.74178404, 1.73061686, 1.12297735, ..., 0.        , 0.        ,\n",
       "        0.        ]])"
      ]
     },
     "execution_count": 4,
     "metadata": {},
     "output_type": "execute_result"
    }
   ],
   "source": [
    "X = np.array(df)\n",
    "scaler = MinMaxScaler(feature_range=(1,2))\n",
    "scaler.fit(X)\n",
    "X_transform = scaler.transform(X)\n",
    "X = np.nan_to_num(X_transform)\n",
    "X"
   ]
  },
  {
   "cell_type": "code",
   "execution_count": 5,
   "metadata": {},
   "outputs": [],
   "source": [
    "X = pd.DataFrame(X)\n",
    "X.to_csv('scaled_df.csv')"
   ]
  },
  {
   "cell_type": "code",
   "execution_count": 6,
   "metadata": {},
   "outputs": [
    {
     "data": {
      "text/plain": [
       "<matplotlib.axes._subplots.AxesSubplot at 0x7fcb01095828>"
      ]
     },
     "execution_count": 6,
     "metadata": {},
     "output_type": "execute_result"
    },
    {
     "data": {
      "image/png": "[encoded data removed]",
      "text/plain": [
       "<Figure size 432x288 with 1 Axes>"
      ]
     },
     "metadata": {
      "needs_background": "light"
     },
     "output_type": "display_data"
    }
   ],
   "source": [
    "svd = TruncatedSVD(n_components=50)\n",
    "svd.fit(X)\n",
    "evr = svd.explained_variance_ratio_\n",
    "sns.lineplot(x = range(0,50), y = evr)"
   ]
  },
  {
   "cell_type": "code",
   "execution_count": 7,
   "metadata": {},
   "outputs": [
    {
     "data": {
      "text/plain": [
       "<matplotlib.axes._subplots.AxesSubplot at 0x7fcb1a2c6be0>"
      ]
     },
     "execution_count": 7,
     "metadata": {},
     "output_type": "execute_result"
    },
    {
     "data": {
      "image/png": "[encoded data removed]",
      "text/plain": [
       "<Figure size 432x288 with 1 Axes>"
      ]
     },
     "metadata": {
      "needs_background": "light"
     },
     "output_type": "display_data"
    }
   ],
   "source": [
    "evr_sum = np.cumsum(evr)\n",
    "sns.lineplot(x = range(0,50), y = evr_sum)"
   ]
  },
  {
   "cell_type": "code",
   "execution_count": 8,
   "metadata": {},
   "outputs": [
    {
     "data": {
      "text/plain": [
       "array([0.26147585, 0.49595488, 0.61198758, 0.65335751, 0.67155726,\n",
       "       0.68295003, 0.69286422, 0.70129407, 0.70802712, 0.71424874,\n",
       "       0.72032319, 0.72619411, 0.73156041, 0.73672198, 0.7417663 ,\n",
       "       0.7465354 , 0.75125544, 0.75589914, 0.76049455, 0.7649691 ,\n",
       "       0.76930492, 0.77360654, 0.77782651, 0.78196372, 0.78607851,\n",
       "       0.79017746, 0.79425168, 0.79825604, 0.80221234, 0.80612007,\n",
       "       0.81002226, 0.81385894, 0.81767068, 0.82141141, 0.82512277,\n",
       "       0.82881818, 0.83248623, 0.83612443, 0.83973944, 0.84334972,\n",
       "       0.84693536, 0.85051359, 0.85407025, 0.85762045, 0.86111701,\n",
       "       0.86459879, 0.86804315, 0.87145263, 0.87486128, 0.87824808])"
      ]
     },
     "execution_count": 8,
     "metadata": {},
     "output_type": "execute_result"
    }
   ],
   "source": [
    "evr_sum\n"
   ]
  },
  {
   "cell_type": "code",
   "execution_count": 9,
   "metadata": {},
   "outputs": [
    {
     "data": {
      "text/plain": [
       "(array([25, 26, 27, 28, 29]),)"
      ]
     },
     "execution_count": 9,
     "metadata": {},
     "output_type": "execute_result"
    }
   ],
   "source": [
    "#We chose a evr_sum of 0.8\n",
    "np.where(np.logical_and (evr_sum > 0.79, evr_sum < 0.81))"
   ]
  },
  {
   "cell_type": "code",
   "execution_count": 10,
   "metadata": {},
   "outputs": [
    {
     "data": {
      "text/plain": [
       "TruncatedSVD(algorithm='randomized', n_components=2, n_iter=5,\n",
       "             random_state=None, tol=0.0)"
      ]
     },
     "execution_count": 10,
     "metadata": {},
     "output_type": "execute_result"
    }
   ],
   "source": [
    "# We chose 28 principal components\n",
    "opt_svd = TruncatedSVD(n_components=2)\n",
    "opt_svd.fit(X)"
   ]
  },
  {
   "cell_type": "code",
   "execution_count": null,
   "metadata": {},
   "outputs": [],
   "source": [
    "df2 = df.head(2)\n",
    "corr = df2.corr()\n",
    "# ax = sns.heatmap(corr, vmin = 1, vmax = 2, center = 0, cmap=sns.diverging_palette(20,220,n=200), square = True);"
   ]
  },
  {
   "cell_type": "code",
   "execution_count": null,
   "metadata": {},
   "outputs": [],
   "source": []
  }
 ],
 "metadata": {
  "kernelspec": {
   "display_name": "Python 3",
   "language": "python",
   "name": "python3"
  },
  "language_info": {
   "codemirror_mode": {
    "name": "ipython",
    "version": 3
   },
   "file_extension": ".py",
   "mimetype": "text/x-python",
   "name": "python",
   "nbconvert_exporter": "python",
   "pygments_lexer": "ipython3",
   "version": "3.7.3"
  },
  "toc": {
   "base_numbering": 1,
   "nav_menu": {},
   "number_sections": true,
   "sideBar": true,
   "skip_h1_title": false,
   "title_cell": "Table of Contents",
   "title_sidebar": "Contents",
   "toc_cell": false,
   "toc_position": {},
   "toc_section_display": true,
   "toc_window_display": false
  }
 },
 "nbformat": 4,
 "nbformat_minor": 2
}
