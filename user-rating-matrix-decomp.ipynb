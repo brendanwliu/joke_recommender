{
 "cells": [
  {
   "cell_type": "markdown",
   "metadata": {},
   "source": [
    "# Matrix Decomposition of User-Ratings\n",
    "\n",
    "1. Find optimal number of principal components to explain 85% of all variance \n",
    "2. Look at the first 2 principal components and see what they are trying to explain\n",
    "3. Cluster user-ratings matrix as an attempt to uncover user behavior."
   ]
  },
  {
   "cell_type": "code",
   "execution_count": 1,
   "metadata": {},
   "outputs": [],
   "source": [
    "import pandas as pd\n",
    "import numpy as np\n",
    "from PIL import Image\n",
    "import seaborn as sns\n",
    "import csv\n",
    "\n",
    "from tqdm import tqdm_notebook\n",
    "import matplotlib.pyplot as plt\n",
    "from sklearn.decomposition import TruncatedSVD, NMF\n",
    "\n",
    "from sklearn.preprocessing import MinMaxScaler\n",
    "from sklearn.cluster import MiniBatchKMeans\n",
    "\n",
    "\n",
    "%matplotlib inline"
   ]
  },
  {
   "cell_type": "code",
   "execution_count": 2,
   "metadata": {},
   "outputs": [],
   "source": [
    "input_path = '../joke_recommender/data/'\n",
    "df = pd.read_csv(input_path + 'joke_dataframe.csv')\n",
    "df = df.drop(['Unnamed: 0', 'JokeId'], axis = 1)"
   ]
  },
  {
   "cell_type": "markdown",
   "metadata": {},
   "source": [
    "## Matrix Decomposition Using sklearn TruncatedSVD\n",
    "We scale our values between 1 and 2 and set NaN to zero to get rid of NaN values. We then preform tSVD on the resulting scaled matrix. We do not need to normalize because all features are on the same scale."
   ]
  },
  {
   "cell_type": "code",
   "execution_count": 3,
   "metadata": {},
   "outputs": [],
   "source": [
    "X = np.array(df)\n",
    "scaler = MinMaxScaler(feature_range=(1,2))\n",
    "scaler.fit(X)\n",
    "X_transform = scaler.transform(X)\n",
    "X = np.nan_to_num(X_transform)"
   ]
  },
  {
   "cell_type": "markdown",
   "metadata": {},
   "source": [
    "### How much variance in the original user-ratings matrix is explained by each principal component (PC)"
   ]
  },
  {
   "cell_type": "code",
   "execution_count": 4,
   "metadata": {},
   "outputs": [
    {
     "data": {
      "text/plain": [
       "[Text(0, 0.5, 'Variance Explained'), Text(0.5, 0, 'Number of Components')]"
      ]
     },
     "execution_count": 4,
     "metadata": {},
     "output_type": "execute_result"
    },
    {
     "data": {
      "image/png": "[encoded data removed]",
      "text/plain": [
       "<Figure size 432x288 with 1 Axes>"
      ]
     },
     "metadata": {
      "needs_background": "light"
     },
     "output_type": "display_data"
    }
   ],
   "source": [
    "svd = TruncatedSVD(n_components=50)\n",
    "svd.fit(X)\n",
    "evr = svd.explained_variance_ratio_\n",
    "ax = sns.lineplot(x = range(0,50), y = evr)\n",
    "ax.set(xlabel = 'Number of Components', ylabel = 'Variance Explained')"
   ]
  },
  {
   "cell_type": "markdown",
   "metadata": {},
   "source": [
    "### Cumulative variance in the original user-ratings matrix explained by each principal component (PC)"
   ]
  },
  {
   "cell_type": "code",
   "execution_count": 5,
   "metadata": {},
   "outputs": [
    {
     "data": {
      "image/png": "[encoded data removed]",
      "text/plain": [
       "<Figure size 432x288 with 1 Axes>"
      ]
     },
     "metadata": {
      "needs_background": "light"
     },
     "output_type": "display_data"
    }
   ],
   "source": [
    "evr_sum = np.cumsum(evr)\n",
    "ax = sns.lineplot(x = range(0,50), y = evr_sum)\n",
    "ax.set(xlabel = 'Number of Components', ylabel = 'Total Variance Explained')\n",
    "plt.savefig('./images/PCA_users.png', dpi = 300)"
   ]
  },
  {
   "cell_type": "markdown",
   "metadata": {},
   "source": [
    "We arbitrarily choose 85% as 'good enough' variance explained, and try to choose the number of principal components that will cumulatively explain 85% of the variance."
   ]
  },
  {
   "cell_type": "code",
   "execution_count": 6,
   "metadata": {},
   "outputs": [
    {
     "data": {
      "text/plain": [
       "(array([25, 26, 27, 28, 29, 30]),)"
      ]
     },
     "execution_count": 6,
     "metadata": {},
     "output_type": "execute_result"
    }
   ],
   "source": [
    "#We chose a evr_sum of 0.8\n",
    "np.where(np.logical_and (evr_sum > 0.79, evr_sum < 0.81))"
   ]
  },
  {
   "cell_type": "markdown",
   "metadata": {},
   "source": [
    "## Loadings of the first two principal components\n",
    "We fit the SVD with the optimal number of principal components and explore the first two components"
   ]
  },
  {
   "cell_type": "code",
   "execution_count": 7,
   "metadata": {},
   "outputs": [],
   "source": [
    "opt_svd = TruncatedSVD(n_components=28)\n",
    "svd_X = opt_svd.fit_transform(X)"
   ]
  },
  {
   "cell_type": "markdown",
   "metadata": {},
   "source": [
    "#### First Component\n",
    "Top five loadings"
   ]
  },
  {
   "cell_type": "code",
   "execution_count": 8,
   "metadata": {},
   "outputs": [
    {
     "name": "stdout",
     "output_type": "stream",
     "text": [
      "A guy goes into confession and says to the priest, \"Father, I'm 80 years\n",
      "old, widower, with 11 grandchildren. Last night I met two beautiful flight\n",
      "attendants. They took me home and I made love to both of them. Twice.\"\n",
      "\n",
      "The priest said: \"Well, my son, when was the last time you were in\n",
      "confession?\"\n",
      " \"Never Father, I'm Jewish.\"\n",
      " \"So then, why are you telling me?\"\n",
      " \"I'm telling everybody.\"\n",
      "\n",
      "------------------------------------------------------\n",
      "A guy walks into a bar, orders a beer and says to the bartender,\n",
      "\"Hey, I got this great Polish Joke...\" \n",
      "\n",
      "The barkeep glares at him and says in a warning tone of voice:\n",
      "\"Before you go telling that joke you better know that I'm Polish, both\n",
      "bouncers are Polish and so are most of my customers\"\n",
      "\n",
      "\"Okay\" says the customer,\"I'll tell it very slowly.\" \n",
      "\n",
      "------------------------------------------------------\n",
      "Clinton returns from a vacation in Arkansas and walks down  the\n",
      "steps of Air Force One with two pigs under his arms.  At the bottom\n",
      "of the steps, he says  to the honor guardsman, \"These are genuine\n",
      "Arkansas Razor-Back Hogs.  I got this one for Chelsea and this one for\n",
      "Hillary.\"  \n",
      "\n",
      "The guardsman replies, \"Nice trade, Sir.\"\n",
      "\n",
      "------------------------------------------------------\n",
      "A man arrives at the gates of heaven. St. Peter asks, \"Religion?\" \n",
      "The man says, \"Methodist.\" St. Peter looks down his list, and says, \n",
      "\"Go to room 24, but be very quiet as you pass room 8.\" \n",
      "\n",
      "Another man arrives at the gates of heaven. \"Religion?\"\n",
      "\"Baptist.\" \"Go to room 18, but be very quiet as you pass room 8.\" \n",
      "\n",
      "A third man arrives at the gates. \"Religion?\" \"Jewish.\"\n",
      "\"Go to room 11, but be very quiet as you pass room 8.\" \n",
      "The man says, \"I can understand there being different rooms for different religions, but why\n",
      "must I be quiet when I pass room 8?\" St. Peter tells him, \"Well the Catholics are in room 8, \n",
      "and they think they're the only ones here.\n",
      "\n",
      "------------------------------------------------------\n",
      "An explorer in the deepest Amazon suddenly finds himself surrounded\n",
      "by a bloodthirsty group of natives. Upon surveying the situation, he\n",
      "says quietly to himself, \"Oh God, I'm screwed.\" \n",
      "\n",
      "The sky darkens and a voice booms out, \"No, you are NOT\n",
      "screwed. Pick up that stone at your feet and bash in the head of the\n",
      "chief standing in front of you.\" \n",
      "\n",
      "So with the stone he bashes the life out of the chief. Standing above\n",
      "the lifeless body, breathing heavily looking at 100 angry natives... \n",
      "\n",
      "The voice booms out again, \"Okay ..... NOW you're screwed.\" \n",
      "\n",
      "------------------------------------------------------\n"
     ]
    }
   ],
   "source": [
    "joke_frame = pd.read_csv(input_path + 'JokeText.csv')\n",
    "jokes = joke_frame.JokeText\n",
    "for i in range(1,6):\n",
    "    print(jokes[np.argsort(svd_X[:,0])[-i]])\n",
    "    print('------------------------------------------------------')"
   ]
  },
  {
   "cell_type": "markdown",
   "metadata": {},
   "source": [
    "Bottom five loadings"
   ]
  },
  {
   "cell_type": "code",
   "execution_count": 9,
   "metadata": {},
   "outputs": [
    {
     "name": "stdout",
     "output_type": "stream",
     "text": [
      "Q: How many stalkers does it take to change a light bulb?\n",
      "\n",
      "A: Two. One to replace the bulb, and the other to watch it day and night.\n",
      "\n",
      "------------------------------------------------------\n",
      "Q: Do you know the difference between an intelligent male and the\n",
      "Sasquatch?\n",
      "\n",
      "A: There have been actual reported sightings of the Sasquatch.\n",
      "\n",
      "------------------------------------------------------\n",
      "Q: What is the difference between George  Washington, Richard Nixon,\n",
      "and Bill Clinton?\n",
      "\n",
      "A: Washington couldn't tell a lie, Nixon couldn't   tell the truth, and\n",
      "Clinton doesn't know the difference.\n",
      "\n",
      "------------------------------------------------------\n",
      "Q: Ever wonder why the IRS calls it Form 1040?\n",
      "\n",
      "A: Because for every $50 that you earn, you get 10 and they get 40.\n",
      "\n",
      "------------------------------------------------------\n",
      "If pro- is the opposite of con- then congress must be the opposite\n",
      "of progress.\n",
      "\n",
      "------------------------------------------------------\n"
     ]
    }
   ],
   "source": [
    "for i in range(1,6):\n",
    "    print(jokes[np.argsort(svd_X[:,0])[i]])\n",
    "    print('------------------------------------------------------')"
   ]
  },
  {
   "cell_type": "markdown",
   "metadata": {},
   "source": [
    "**Interesting! it seems as though in the first principal component, the highest 5 scores relate to long jokes, and the lowest 5 loadings correspond to really short one-liner jokes!**\n",
    "\n",
    "The first principal component seems to represent the users who prefer a certian length of the joke itself."
   ]
  },
  {
   "cell_type": "code",
   "execution_count": 10,
   "metadata": {},
   "outputs": [
    {
     "name": "stdout",
     "output_type": "stream",
     "text": [
      "This explains over 26.15% of all variance in the user-ratings matrix!\n"
     ]
    }
   ],
   "source": [
    "print('This explains over {0}% of all variance in the user-ratings matrix!'.format(round(evr[0]*100,2)))"
   ]
  },
  {
   "cell_type": "markdown",
   "metadata": {},
   "source": [
    "## Plotting PC1 on PC2\n",
    "We can see 3-4 small groups of users forming here. "
   ]
  },
  {
   "cell_type": "code",
   "execution_count": 11,
   "metadata": {},
   "outputs": [
    {
     "data": {
      "image/png": "[encoded data removed]",
      "text/plain": [
       "<Figure size 432x288 with 1 Axes>"
      ]
     },
     "metadata": {
      "needs_background": "light"
     },
     "output_type": "display_data"
    }
   ],
   "source": [
    "plt.scatter(svd_X[:,0],svd_X[:,1])\n",
    "plt.title('tSVD on User-Ratings Matrix')\n",
    "plt.xlabel('PC1')\n",
    "plt.ylabel('PC2')\n",
    "plt.savefig('./images/tSVD_on_User_rat_mat.png', dpi = 300)"
   ]
  },
  {
   "cell_type": "markdown",
   "metadata": {},
   "source": [
    "## K-Means Clustering\n",
    "We're going to use the elbow method to determine the best cluster number to use"
   ]
  },
  {
   "cell_type": "code",
   "execution_count": 12,
   "metadata": {},
   "outputs": [
    {
     "data": {
      "application/vnd.jupyter.widget-view+json": {
       "model_id": "6549ca5c51374a039a5bd99560316b38",
       "version_major": 2,
       "version_minor": 0
      },
      "text/plain": [
       "HBox(children=(IntProgress(value=0, max=19), HTML(value='')))"
      ]
     },
     "metadata": {},
     "output_type": "display_data"
    },
    {
     "name": "stdout",
     "output_type": "stream",
     "text": [
      "\n"
     ]
    },
    {
     "data": {
      "image/png": "[encoded data removed]",
      "text/plain": [
       "<Figure size 432x288 with 1 Axes>"
      ]
     },
     "metadata": {
      "needs_background": "light"
     },
     "output_type": "display_data"
    }
   ],
   "source": [
    "# TESTING FOR THE OPTIMAL NUMBER OF K CLUSTERS FOR THE KMEANS MODEL\n",
    "number_clusters = range(1, 20)\n",
    "\n",
    "kmeans = [MiniBatchKMeans(n_clusters=i, batch_size = 50, init= 'k-means++', max_iter = 100) for i in number_clusters]\n",
    "score = [kmeans[i].fit(X.T).score(X.T) for i in tqdm_notebook(range(len(kmeans)))]\n",
    "# PLOTTING ELBOW PLOT\n",
    "plt.plot(number_clusters, score)\n",
    "plt.xlabel('Number of Clusters')\n",
    "plt.ylabel('Score')\n",
    "plt.title('Elbow Method')\n",
    "plt.savefig('./images/elbow_method_kmeans_users.png', dpi = 300)\n",
    "plt.show()"
   ]
  },
  {
   "cell_type": "markdown",
   "metadata": {},
   "source": [
    "## Fitting and Visualizing the K-Means Clusters"
   ]
  },
  {
   "cell_type": "code",
   "execution_count": 13,
   "metadata": {},
   "outputs": [],
   "source": [
    "k_value = 6\n",
    "kmeans = MiniBatchKMeans(n_clusters=k_value, batch_size = 100, init= 'k-means++', max_iter = 100)\n",
    "fitted_values= kmeans.fit(X.T)\n",
    "predicted_values = kmeans.predict(X.T)"
   ]
  },
  {
   "cell_type": "code",
   "execution_count": 14,
   "metadata": {},
   "outputs": [
    {
     "data": {
      "image/png": "[encoded data removed]",
      "text/plain": [
       "<Figure size 648x648 with 1 Axes>"
      ]
     },
     "metadata": {
      "needs_background": "light"
     },
     "output_type": "display_data"
    }
   ],
   "source": [
    "k_value = 6\n",
    "kmeans_svd = MiniBatchKMeans(n_clusters=k_value, batch_size = 100, init= 'k-means++', max_iter = 100)\n",
    "fitted_values_svd= kmeans_svd.fit(svd_X)\n",
    "predicted_values_svd = kmeans_svd.predict(svd_X)\n",
    "centers = kmeans_svd.cluster_centers_\n",
    "plt.figure(figsize = (9,9))\n",
    "plt.scatter(svd_X[:,0], svd_X[:,1], c=predicted_values_svd, s=50, cmap='viridis')\n",
    "plt.title('K-Means Clustering Visualized Using PC1 and PC2')\n",
    "plt.savefig('./images/Kmeans_Clustering_on_User_Data.png', dpi = 300)"
   ]
  },
  {
   "cell_type": "markdown",
   "metadata": {},
   "source": [
    "## We can now see which users belong in which clusters!\n",
    "Here we extract the users and the clusters they belong to into a dataframe."
   ]
  },
  {
   "cell_type": "code",
   "execution_count": 15,
   "metadata": {},
   "outputs": [],
   "source": [
    "cluster_map = pd.DataFrame()\n",
    "cluster_map['data_index'] = df.columns.values\n",
    "cluster_map['cluster'] = kmeans.labels_"
   ]
  },
  {
   "cell_type": "markdown",
   "metadata": {},
   "source": [
    "## What are the highest rated jokes from cluster 0?"
   ]
  },
  {
   "cell_type": "code",
   "execution_count": 16,
   "metadata": {},
   "outputs": [
    {
     "name": "stdout",
     "output_type": "stream",
     "text": [
      "Q. What's the difference between a man and a toilet? \n",
      "\n",
      "A. A toilet doesn't follow you around after you use it.\n",
      "\n",
      "A country guy goes into a city bar that has a dress code, and the maitre\n",
      "d' \n",
      "demands he wear a tie. Discouraged, the guy goes to his car to sulk when \n",
      "inspiration strikes: He's got jumper cables in the trunk! So he wraps\n",
      "them around his neck, sort of like a string tie (a bulky string tie to be\n",
      "sure) and returns to the bar. The maitre d' is reluctant, but says to the\n",
      "guy, \"Okay, you're a pretty resourceful fellow, you can come in... but\n",
      "just don't start anything\"!  \n",
      "\n",
      "Q. What do a hurricane, a tornado, and a redneck\n",
      "divorce all have in common? \n",
      "A. Someone's going to lose their trailer...\n",
      "\n",
      "Two kindergarten girls were talking outside: one said, \"You\n",
      "won't believe what I saw on the patio yesterday--a condom!\"\n",
      "\n",
      "The second girl asked, \"What's a patio?\"\n",
      "\n",
      "A guy goes into confession and says to the priest, \"Father, I'm 80 years\n",
      "old, widower, with 11 grandchildren. Last night I met two beautiful flight\n",
      "attendants. They took me home and I made love to both of them. Twice.\"\n",
      "\n",
      "The priest said: \"Well, my son, when was the last time you were in\n",
      "confession?\"\n",
      " \"Never Father, I'm Jewish.\"\n",
      " \"So then, why are you telling me?\"\n",
      " \"I'm telling everybody.\"\n",
      "\n"
     ]
    }
   ],
   "source": [
    "for i in range(1,6):\n",
    "    print(jokes[np.argsort(np.mean(df.iloc[:,cluster_map.index[cluster_map.cluster == 0].values], axis = 1).values)[-i]])"
   ]
  },
  {
   "cell_type": "markdown",
   "metadata": {},
   "source": [
    "## What are the lowest rated jokes from cluster 0?"
   ]
  },
  {
   "cell_type": "code",
   "execution_count": 17,
   "metadata": {},
   "outputs": [
    {
     "name": "stdout",
     "output_type": "stream",
     "text": [
      "Bill & Hillary are on a trip back to Arkansas. They're almost out of gas, so Bill pulls into a service station on the outskirts of\n",
      "town. The attendant runs out of the station to serve them when Hillary realizes it's an old boyfriend from high school. She and\n",
      "the attendant chat as he gases up their car and cleans the windows. Then they all say good-bye. \n",
      "\n",
      "As Bill pulls the car onto the road, he turns to Hillary and says, 'Now aren't you glad you married me and not him ? You could've\n",
      "been the wife of a grease monkey !' \n",
      "\n",
      "To which Hillary replied, 'No, Bill. If I would have married him, you'd be pumping gas and he would be the President !' \n",
      "\n",
      "How many teddybears does it take to change a lightbulb?\n",
      "\n",
      "It takes only one teddybear, but it takes a whole lot of lightbulbs.\n",
      "\n",
      "What do you get when you run over a parakeet with a lawnmower? \n",
      "Shredded tweet.\n",
      "\n",
      "Q: What is the Australian word for a boomerang that won't\n",
      "   come back? \n",
      "\n",
      "A: A stick\n",
      "\n",
      "Q. What is orange and sounds like a parrot?  \n",
      "\n",
      "A. A carrot.\n",
      "\n"
     ]
    }
   ],
   "source": [
    "for i in range(5):\n",
    "    print(jokes[np.argsort(np.mean(df.iloc[:,cluster_map.index[cluster_map.cluster == 0].values], axis = 1).values)[i]])"
   ]
  }
 ],
 "metadata": {
  "kernelspec": {
   "display_name": "Python 3",
   "language": "python",
   "name": "python3"
  },
  "language_info": {
   "codemirror_mode": {
    "name": "ipython",
    "version": 3
   },
   "file_extension": ".py",
   "mimetype": "text/x-python",
   "name": "python",
   "nbconvert_exporter": "python",
   "pygments_lexer": "ipython3",
   "version": "3.7.3"
  },
  "toc": {
   "base_numbering": 1,
   "nav_menu": {},
   "number_sections": true,
   "sideBar": true,
   "skip_h1_title": false,
   "title_cell": "Table of Contents",
   "title_sidebar": "Contents",
   "toc_cell": false,
   "toc_position": {},
   "toc_section_display": true,
   "toc_window_display": false
  }
 },
 "nbformat": 4,
 "nbformat_minor": 2
}
